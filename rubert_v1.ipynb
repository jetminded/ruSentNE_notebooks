{
  "cells": [
    {
      "cell_type": "code",
      "source": [],
      "metadata": {
        "id": "t_t2irw8J3Zw"
      },
      "execution_count": null,
      "outputs": []
    },
    {
      "cell_type": "code",
      "source": [
        "pip install transformers"
      ],
      "metadata": {
        "colab": {
          "base_uri": "https://localhost:8080/"
        },
        "id": "cdJ50tpB6b7U",
        "outputId": "bcb293c7-edc0-4171-b025-29052bc287b1"
      },
      "execution_count": null,
      "outputs": [
        {
          "output_type": "stream",
          "name": "stdout",
          "text": [
            "Looking in indexes: https://pypi.org/simple, https://us-python.pkg.dev/colab-wheels/public/simple/\n",
            "Requirement already satisfied: transformers in /usr/local/lib/python3.10/dist-packages (4.29.2)\n",
            "Requirement already satisfied: filelock in /usr/local/lib/python3.10/dist-packages (from transformers) (3.12.0)\n",
            "Requirement already satisfied: huggingface-hub<1.0,>=0.14.1 in /usr/local/lib/python3.10/dist-packages (from transformers) (0.14.1)\n",
            "Requirement already satisfied: numpy>=1.17 in /usr/local/lib/python3.10/dist-packages (from transformers) (1.22.4)\n",
            "Requirement already satisfied: packaging>=20.0 in /usr/local/lib/python3.10/dist-packages (from transformers) (23.1)\n",
            "Requirement already satisfied: pyyaml>=5.1 in /usr/local/lib/python3.10/dist-packages (from transformers) (6.0)\n",
            "Requirement already satisfied: regex!=2019.12.17 in /usr/local/lib/python3.10/dist-packages (from transformers) (2022.10.31)\n",
            "Requirement already satisfied: requests in /usr/local/lib/python3.10/dist-packages (from transformers) (2.27.1)\n",
            "Requirement already satisfied: tokenizers!=0.11.3,<0.14,>=0.11.1 in /usr/local/lib/python3.10/dist-packages (from transformers) (0.13.3)\n",
            "Requirement already satisfied: tqdm>=4.27 in /usr/local/lib/python3.10/dist-packages (from transformers) (4.65.0)\n",
            "Requirement already satisfied: fsspec in /usr/local/lib/python3.10/dist-packages (from huggingface-hub<1.0,>=0.14.1->transformers) (2023.4.0)\n",
            "Requirement already satisfied: typing-extensions>=3.7.4.3 in /usr/local/lib/python3.10/dist-packages (from huggingface-hub<1.0,>=0.14.1->transformers) (4.5.0)\n",
            "Requirement already satisfied: urllib3<1.27,>=1.21.1 in /usr/local/lib/python3.10/dist-packages (from requests->transformers) (1.26.15)\n",
            "Requirement already satisfied: certifi>=2017.4.17 in /usr/local/lib/python3.10/dist-packages (from requests->transformers) (2022.12.7)\n",
            "Requirement already satisfied: charset-normalizer~=2.0.0 in /usr/local/lib/python3.10/dist-packages (from requests->transformers) (2.0.12)\n",
            "Requirement already satisfied: idna<4,>=2.5 in /usr/local/lib/python3.10/dist-packages (from requests->transformers) (3.4)\n"
          ]
        }
      ]
    },
    {
      "cell_type": "code",
      "execution_count": null,
      "metadata": {
        "id": "Ybt6ngQh5_0A"
      },
      "outputs": [],
      "source": [
        "import numpy as np\n",
        "import pandas as pd\n",
        "import torch\n",
        "import transformers as ppb # pytorch transformers"
      ]
    },
    {
      "cell_type": "code",
      "execution_count": null,
      "metadata": {
        "id": "erUJS4B25_0B"
      },
      "outputs": [],
      "source": [
        "# загружаем 5000 позитивных и негативных твитов\n",
        "\n",
        "df_tweets = pd.read_csv('train_data.csv', sep='\\t')\n",
        "df_tweets = df_tweets.dropna()"
      ]
    },
    {
      "cell_type": "code",
      "execution_count": null,
      "metadata": {
        "colab": {
          "base_uri": "https://localhost:8080/",
          "height": 347
        },
        "id": "qfxqexpR5_0B",
        "outputId": "631d6179-0ca0-401d-eec5-8b0efe4dcee2"
      },
      "outputs": [
        {
          "output_type": "execute_result",
          "data": {
            "text/plain": [
              "                                            sentence      entity  entity_tag  \\\n",
              "0  Джеймс «Бадди» Макгирт (James (Buddy) McGirt, ...  спортсмена  PROFESSION   \n",
              "1  «За всю нашу долгую карьеру нам довелось играт...  музыкантов  PROFESSION   \n",
              "\n",
              "   entity_pos_start_rel  entity_pos_end_rel  label  \n",
              "0                    86                  96      0  \n",
              "1                   258                 268      0  "
            ],
            "text/html": [
              "\n",
              "  <div id=\"df-6893b9d7-847e-472f-9162-e11925cfb8f8\">\n",
              "    <div class=\"colab-df-container\">\n",
              "      <div>\n",
              "<style scoped>\n",
              "    .dataframe tbody tr th:only-of-type {\n",
              "        vertical-align: middle;\n",
              "    }\n",
              "\n",
              "    .dataframe tbody tr th {\n",
              "        vertical-align: top;\n",
              "    }\n",
              "\n",
              "    .dataframe thead th {\n",
              "        text-align: right;\n",
              "    }\n",
              "</style>\n",
              "<table border=\"1\" class=\"dataframe\">\n",
              "  <thead>\n",
              "    <tr style=\"text-align: right;\">\n",
              "      <th></th>\n",
              "      <th>sentence</th>\n",
              "      <th>entity</th>\n",
              "      <th>entity_tag</th>\n",
              "      <th>entity_pos_start_rel</th>\n",
              "      <th>entity_pos_end_rel</th>\n",
              "      <th>label</th>\n",
              "    </tr>\n",
              "  </thead>\n",
              "  <tbody>\n",
              "    <tr>\n",
              "      <th>0</th>\n",
              "      <td>Джеймс «Бадди» Макгирт (James (Buddy) McGirt, ...</td>\n",
              "      <td>спортсмена</td>\n",
              "      <td>PROFESSION</td>\n",
              "      <td>86</td>\n",
              "      <td>96</td>\n",
              "      <td>0</td>\n",
              "    </tr>\n",
              "    <tr>\n",
              "      <th>1</th>\n",
              "      <td>«За всю нашу долгую карьеру нам довелось играт...</td>\n",
              "      <td>музыкантов</td>\n",
              "      <td>PROFESSION</td>\n",
              "      <td>258</td>\n",
              "      <td>268</td>\n",
              "      <td>0</td>\n",
              "    </tr>\n",
              "  </tbody>\n",
              "</table>\n",
              "</div>\n",
              "      <button class=\"colab-df-convert\" onclick=\"convertToInteractive('df-6893b9d7-847e-472f-9162-e11925cfb8f8')\"\n",
              "              title=\"Convert this dataframe to an interactive table.\"\n",
              "              style=\"display:none;\">\n",
              "        \n",
              "  <svg xmlns=\"http://www.w3.org/2000/svg\" height=\"24px\"viewBox=\"0 0 24 24\"\n",
              "       width=\"24px\">\n",
              "    <path d=\"M0 0h24v24H0V0z\" fill=\"none\"/>\n",
              "    <path d=\"M18.56 5.44l.94 2.06.94-2.06 2.06-.94-2.06-.94-.94-2.06-.94 2.06-2.06.94zm-11 1L8.5 8.5l.94-2.06 2.06-.94-2.06-.94L8.5 2.5l-.94 2.06-2.06.94zm10 10l.94 2.06.94-2.06 2.06-.94-2.06-.94-.94-2.06-.94 2.06-2.06.94z\"/><path d=\"M17.41 7.96l-1.37-1.37c-.4-.4-.92-.59-1.43-.59-.52 0-1.04.2-1.43.59L10.3 9.45l-7.72 7.72c-.78.78-.78 2.05 0 2.83L4 21.41c.39.39.9.59 1.41.59.51 0 1.02-.2 1.41-.59l7.78-7.78 2.81-2.81c.8-.78.8-2.07 0-2.86zM5.41 20L4 18.59l7.72-7.72 1.47 1.35L5.41 20z\"/>\n",
              "  </svg>\n",
              "      </button>\n",
              "      \n",
              "  <style>\n",
              "    .colab-df-container {\n",
              "      display:flex;\n",
              "      flex-wrap:wrap;\n",
              "      gap: 12px;\n",
              "    }\n",
              "\n",
              "    .colab-df-convert {\n",
              "      background-color: #E8F0FE;\n",
              "      border: none;\n",
              "      border-radius: 50%;\n",
              "      cursor: pointer;\n",
              "      display: none;\n",
              "      fill: #1967D2;\n",
              "      height: 32px;\n",
              "      padding: 0 0 0 0;\n",
              "      width: 32px;\n",
              "    }\n",
              "\n",
              "    .colab-df-convert:hover {\n",
              "      background-color: #E2EBFA;\n",
              "      box-shadow: 0px 1px 2px rgba(60, 64, 67, 0.3), 0px 1px 3px 1px rgba(60, 64, 67, 0.15);\n",
              "      fill: #174EA6;\n",
              "    }\n",
              "\n",
              "    [theme=dark] .colab-df-convert {\n",
              "      background-color: #3B4455;\n",
              "      fill: #D2E3FC;\n",
              "    }\n",
              "\n",
              "    [theme=dark] .colab-df-convert:hover {\n",
              "      background-color: #434B5C;\n",
              "      box-shadow: 0px 1px 3px 1px rgba(0, 0, 0, 0.15);\n",
              "      filter: drop-shadow(0px 1px 2px rgba(0, 0, 0, 0.3));\n",
              "      fill: #FFFFFF;\n",
              "    }\n",
              "  </style>\n",
              "\n",
              "      <script>\n",
              "        const buttonEl =\n",
              "          document.querySelector('#df-6893b9d7-847e-472f-9162-e11925cfb8f8 button.colab-df-convert');\n",
              "        buttonEl.style.display =\n",
              "          google.colab.kernel.accessAllowed ? 'block' : 'none';\n",
              "\n",
              "        async function convertToInteractive(key) {\n",
              "          const element = document.querySelector('#df-6893b9d7-847e-472f-9162-e11925cfb8f8');\n",
              "          const dataTable =\n",
              "            await google.colab.kernel.invokeFunction('convertToInteractive',\n",
              "                                                     [key], {});\n",
              "          if (!dataTable) return;\n",
              "\n",
              "          const docLinkHtml = 'Like what you see? Visit the ' +\n",
              "            '<a target=\"_blank\" href=https://colab.research.google.com/notebooks/data_table.ipynb>data table notebook</a>'\n",
              "            + ' to learn more about interactive tables.';\n",
              "          element.innerHTML = '';\n",
              "          dataTable['output_type'] = 'display_data';\n",
              "          await google.colab.output.renderOutput(dataTable, element);\n",
              "          const docLink = document.createElement('div');\n",
              "          docLink.innerHTML = docLinkHtml;\n",
              "          element.appendChild(docLink);\n",
              "        }\n",
              "      </script>\n",
              "    </div>\n",
              "  </div>\n",
              "  "
            ]
          },
          "metadata": {},
          "execution_count": 6
        }
      ],
      "source": [
        "df_tweets.head(2)"
      ]
    },
    {
      "cell_type": "code",
      "source": [
        "df_tweets = df_tweets.drop(['entity', 'entity_tag', 'entity_pos_start_rel', 'entity_pos_end_rel'], axis=1)"
      ],
      "metadata": {
        "id": "7kzzEAbw6sOV"
      },
      "execution_count": null,
      "outputs": []
    },
    {
      "cell_type": "code",
      "source": [
        "df_tweets = df_tweets.drop(df_tweets.tail(37).index)"
      ],
      "metadata": {
        "id": "9dQBa0PqJfbD"
      },
      "execution_count": null,
      "outputs": []
    },
    {
      "cell_type": "code",
      "execution_count": null,
      "metadata": {
        "colab": {
          "base_uri": "https://localhost:8080/"
        },
        "id": "GuoPEgdA5_0C",
        "outputId": "2f1fd0eb-af86-4732-d01b-7be9274518ba"
      },
      "outputs": [
        {
          "output_type": "execute_result",
          "data": {
            "text/plain": [
              "(6600, 2)"
            ]
          },
          "metadata": {},
          "execution_count": 9
        }
      ],
      "source": [
        "df_tweets.shape"
      ]
    },
    {
      "cell_type": "code",
      "source": [],
      "metadata": {
        "id": "4brL5z9FJevA"
      },
      "execution_count": null,
      "outputs": []
    },
    {
      "cell_type": "code",
      "execution_count": null,
      "metadata": {
        "collapsed": true,
        "id": "xWVB0Sx35_0C"
      },
      "outputs": [],
      "source": [
        "# создаем токенайзер для модели BERT, для его инициализации достаточно указать словарь, на котором обучалась предобученная модель\n",
        "# BERT использует собственную токенизацию, никакой предобработки \n",
        "\n",
        "# tokenizer = ppb.BertTokenizer(vocab_file='vocab.txt')\n",
        "from transformers import AutoTokenizer, AutoModel\n",
        "\n",
        "\n",
        "tokenizer = AutoTokenizer.from_pretrained(\"DeepPavlov/rubert-base-cased\")"
      ]
    },
    {
      "cell_type": "code",
      "execution_count": null,
      "metadata": {
        "id": "5LVxA23h5_0C"
      },
      "outputs": [],
      "source": [
        "# токенизируем текст каждого твита, для BERT не требуется никакая дополнительная предобработка, лемматизация и прочее\n",
        "\n",
        "tokenized = df_tweets['sentence'].astype(str).str[:512].apply((lambda x: tokenizer.encode(x, add_special_tokens=True)) )"
      ]
    },
    {
      "cell_type": "code",
      "execution_count": null,
      "metadata": {
        "colab": {
          "base_uri": "https://localhost:8080/"
        },
        "id": "SrKz5VyM5_0C",
        "outputId": "20634fa6-8132-4a95-b14d-31d86fc9bb2d"
      },
      "outputs": [
        {
          "output_type": "execute_result",
          "data": {
            "text/plain": [
              "0       Джеймс «Бадди» Макгирт (James (Buddy) McGirt, ...\n",
              "1       «За всю нашу долгую карьеру нам довелось играт...\n",
              "2       Ранее, 7 декабря, толпа болельщиков перекрыла ...\n",
              "3       В субботу, 21 июля 2018 года, на арене СК «Оли...\n",
              "4       Представитель талибов Забиулла Муджахид в твит...\n",
              "                              ...                        \n",
              "6595    В заявлении британского правительства говоритс...\n",
              "6596    Накануне вечером около 150 тыс. человек вышли ...\n",
              "6597    Высший руководитель Ирана, великий аятолла Али...\n",
              "6598    В заявку сборной России под руководством Влади...\n",
              "6599    Он был арестован на территории Великобритании ...\n",
              "Name: sentence, Length: 6600, dtype: object"
            ]
          },
          "metadata": {},
          "execution_count": 12
        }
      ],
      "source": [
        "df_tweets['sentence'].astype(str).str[:512]"
      ]
    },
    {
      "cell_type": "code",
      "execution_count": null,
      "metadata": {
        "colab": {
          "base_uri": "https://localhost:8080/"
        },
        "id": "eJDFw4aC5_0D",
        "outputId": "7e7dbf81-c451-4cdc-dcbd-7ab57ac5265d"
      },
      "outputs": [
        {
          "output_type": "stream",
          "name": "stdout",
          "text": [
            "Джеймс «Бадди» Макгирт (James (Buddy) McGirt, тренер Дадашева упрашивал дагестанского спортсмена остановить бой, но тот хотел продолжать.\n",
            "[101, 18688, 304, 91380, 326, 114499, 21193, 120, 11412, 120, 40720, 122, 104291, 83368, 128, 10109, 82922, 83448, 19398, 20944, 11817, 113837, 29186, 24548, 11519, 128, 3435, 8470, 17200, 26285, 132, 102]\n",
            "['Джеймс', '«', 'Бадди', '»', 'Макги', '##рт', '(', 'James', '(', 'Buddy', ')', 'McG', '##irt', ',', 'тренер', 'Дада', '##шева', 'упр', '##аши', '##вал', 'дагестанского', 'спортсмена', 'остановить', 'бой', ',', 'но', 'тот', 'хотел', 'продолжать', '.']\n"
          ]
        }
      ],
      "source": [
        "# Пример токенизации текста: на входе - текст, а на выходе имеем массив с номерами токенов из словаря модели BERT\n",
        "\n",
        "print(df_tweets['sentence'][0])\n",
        "print(tokenized[0])\n",
        "print(tokenizer.tokenize(df_tweets['sentence'][0]))"
      ]
    },
    {
      "cell_type": "code",
      "source": [
        "model_rubert = AutoModel.from_pretrained(\"DeepPavlov/rubert-base-cased\")"
      ],
      "metadata": {
        "colab": {
          "base_uri": "https://localhost:8080/"
        },
        "id": "dRwaL9oRF7Fg",
        "outputId": "66f7bd15-e1b7-4ad9-d4ce-45da2b61f110"
      },
      "execution_count": null,
      "outputs": [
        {
          "output_type": "stream",
          "name": "stderr",
          "text": [
            "Some weights of the model checkpoint at DeepPavlov/rubert-base-cased were not used when initializing BertModel: ['cls.seq_relationship.weight', 'cls.predictions.transform.LayerNorm.weight', 'cls.predictions.decoder.bias', 'cls.predictions.decoder.weight', 'cls.predictions.transform.LayerNorm.bias', 'cls.predictions.transform.dense.bias', 'cls.predictions.transform.dense.weight', 'cls.seq_relationship.bias', 'cls.predictions.bias']\n",
            "- This IS expected if you are initializing BertModel from the checkpoint of a model trained on another task or with another architecture (e.g. initializing a BertForSequenceClassification model from a BertForPreTraining model).\n",
            "- This IS NOT expected if you are initializing BertModel from the checkpoint of a model that you expect to be exactly identical (initializing a BertForSequenceClassification model from a BertForSequenceClassification model).\n"
          ]
        }
      ]
    },
    {
      "cell_type": "code",
      "execution_count": null,
      "metadata": {
        "id": "zRA6JXkq5_0D"
      },
      "outputs": [],
      "source": [
        "# инициализируем предобученную модель RuBERT из файла, \n",
        "# в json-файле конфигурации описаны параметры модели\n",
        "\n",
        "# config = ppb.BertConfig.from_json_file('config.json')\n",
        "# model = ppb.BertModel.from_pretrained('pytorch_model.bin', config = config, from_tf=True)"
      ]
    },
    {
      "cell_type": "code",
      "execution_count": null,
      "metadata": {
        "colab": {
          "base_uri": "https://localhost:8080/"
        },
        "id": "ttefc-A_5_0D",
        "outputId": "8585fa84-8b8c-4c05-d02a-1908a2bc39d5"
      },
      "outputs": [
        {
          "output_type": "execute_result",
          "data": {
            "text/plain": [
              "BertModel(\n",
              "  (embeddings): BertEmbeddings(\n",
              "    (word_embeddings): Embedding(119547, 768, padding_idx=0)\n",
              "    (position_embeddings): Embedding(512, 768)\n",
              "    (token_type_embeddings): Embedding(2, 768)\n",
              "    (LayerNorm): LayerNorm((768,), eps=1e-12, elementwise_affine=True)\n",
              "    (dropout): Dropout(p=0.1, inplace=False)\n",
              "  )\n",
              "  (encoder): BertEncoder(\n",
              "    (layer): ModuleList(\n",
              "      (0-11): 12 x BertLayer(\n",
              "        (attention): BertAttention(\n",
              "          (self): BertSelfAttention(\n",
              "            (query): Linear(in_features=768, out_features=768, bias=True)\n",
              "            (key): Linear(in_features=768, out_features=768, bias=True)\n",
              "            (value): Linear(in_features=768, out_features=768, bias=True)\n",
              "            (dropout): Dropout(p=0.1, inplace=False)\n",
              "          )\n",
              "          (output): BertSelfOutput(\n",
              "            (dense): Linear(in_features=768, out_features=768, bias=True)\n",
              "            (LayerNorm): LayerNorm((768,), eps=1e-12, elementwise_affine=True)\n",
              "            (dropout): Dropout(p=0.1, inplace=False)\n",
              "          )\n",
              "        )\n",
              "        (intermediate): BertIntermediate(\n",
              "          (dense): Linear(in_features=768, out_features=3072, bias=True)\n",
              "          (intermediate_act_fn): GELUActivation()\n",
              "        )\n",
              "        (output): BertOutput(\n",
              "          (dense): Linear(in_features=3072, out_features=768, bias=True)\n",
              "          (LayerNorm): LayerNorm((768,), eps=1e-12, elementwise_affine=True)\n",
              "          (dropout): Dropout(p=0.1, inplace=False)\n",
              "        )\n",
              "      )\n",
              "    )\n",
              "  )\n",
              "  (pooler): BertPooler(\n",
              "    (dense): Linear(in_features=768, out_features=768, bias=True)\n",
              "    (activation): Tanh()\n",
              "  )\n",
              ")"
            ]
          },
          "metadata": {},
          "execution_count": 72
        }
      ],
      "source": [
        "model_rubert.to('cuda')"
      ]
    },
    {
      "cell_type": "code",
      "execution_count": null,
      "metadata": {
        "collapsed": true,
        "id": "s-o03sg65_0D"
      },
      "outputs": [],
      "source": [
        "# из-за того, что каждый твит в датасете имеет разную длину (количество токенов)\n",
        "# мы делаем паддинг - заполнение нулями каждого массива токенов до длины максимального массива\n",
        "# чтобы на выходе получить матрицу из токенизированных текстов одной длины\n",
        "\n",
        "max_len = 0\n",
        "for i in tokenized.values:\n",
        "    if len(i) > max_len:\n",
        "        max_len = len(i)\n",
        "\n",
        "padded = np.array([i + [0]*(max_len-len(i)) for i in tokenized.values])"
      ]
    },
    {
      "cell_type": "code",
      "execution_count": null,
      "metadata": {
        "colab": {
          "base_uri": "https://localhost:8080/"
        },
        "id": "_IQWPTfR5_0E",
        "outputId": "3f12fa99-96d9-4395-df3b-c53e76f762d5"
      },
      "outputs": [
        {
          "output_type": "execute_result",
          "data": {
            "text/plain": [
              "(6600, 172)"
            ]
          },
          "metadata": {},
          "execution_count": 18
        }
      ],
      "source": [
        "# посмотрим на размерность матрицы токенизированных твитов после паддинга\n",
        "\n",
        "np.array(padded).shape"
      ]
    },
    {
      "cell_type": "code",
      "execution_count": null,
      "metadata": {
        "colab": {
          "base_uri": "https://localhost:8080/"
        },
        "id": "-fCfviJy5_0E",
        "outputId": "6ebd2fc9-2566-4654-f6e0-e9768992f041"
      },
      "outputs": [
        {
          "output_type": "execute_result",
          "data": {
            "text/plain": [
              "(6600, 172)"
            ]
          },
          "metadata": {},
          "execution_count": 19
        }
      ],
      "source": [
        "# Накладываем маску на значимые токены\n",
        "# В данном случае нам важны все слова кроме нулевых токенов, появившихся на предыдущем шаге паддинга\n",
        "\n",
        "attention_mask = np.where(padded != 0, 1, 0)\n",
        "attention_mask.shape"
      ]
    },
    {
      "cell_type": "code",
      "execution_count": null,
      "metadata": {
        "colab": {
          "base_uri": "https://localhost:8080/"
        },
        "id": "dyykMWYS5_0E",
        "outputId": "29ddf761-b1e2-41d9-9a2a-a0d898cc92f0"
      },
      "outputs": [
        {
          "output_type": "stream",
          "name": "stderr",
          "text": [
            "100%|██████████| 66/66 [01:00<00:00,  1.09it/s]\n"
          ]
        }
      ],
      "source": [
        "# а теперь сформируем вектора текстов с помощью модели RuBERT\n",
        "\n",
        "# это не быстрый процесс, импортируем инструмент для визуализации времени обработки в цикле\n",
        "from tqdm import tqdm\n",
        "\n",
        "# для того, чтобы модель отработала в условиях ограниченных ресурсов - оперативной памяти, мы разделяем входной датасет на батчи.\n",
        "# при батче в 100 твитов потребление оперативной памяти укладывается в 1Гб\n",
        "batch_size = 100\n",
        "\n",
        "# Делаем пустой список для хранения эмбеддингов (векторов) твитов\n",
        "embeddings = []\n",
        "\n",
        "for i in tqdm(range(padded.shape[0] // batch_size)):\n",
        "        # преобразуем батч с токенизированными твитами в тензор \n",
        "        # по сути тензор - это многомерный массив, который может быть обработан нейронной сетью\n",
        "        input_ids = torch.LongTensor(padded[batch_size*i:batch_size*(i+1)]).to('cuda') \n",
        "        \n",
        "        # создаем тензор и для подготовленной маски\n",
        "        attention_mask_batch = torch.LongTensor(attention_mask[batch_size*i:batch_size*(i+1)]).to('cuda')\n",
        "        \n",
        "        # передаем в модель BERT тензор из твитов и маску - на выходе получаем эмбеддинги - вектор текста твита\n",
        "        # torch.no_grad() - для ускорения инференса модели отключим рассчет градиентов\n",
        "        with torch.no_grad():\n",
        "               last_hidden_states = model_rubert(input_ids, attention_mask=attention_mask_batch)\n",
        "        \n",
        "        # в итоге собираем все эмбеддинги твитов в features\n",
        "        embeddings.append(last_hidden_states[0][:,0,:].cpu().numpy())\n",
        "\n"
      ]
    },
    {
      "cell_type": "code",
      "execution_count": null,
      "metadata": {
        "id": "nrJTrw1B5_0E"
      },
      "outputs": [],
      "source": [
        "# преобразуем список батчей эмбеддингов в numpy-матрицу \n",
        "features = np.concatenate(embeddings)"
      ]
    },
    {
      "cell_type": "code",
      "execution_count": null,
      "metadata": {
        "colab": {
          "base_uri": "https://localhost:8080/"
        },
        "id": "jRXk2L8f5_0F",
        "outputId": "24c08391-9ba9-4480-8160-f221d4765244"
      },
      "outputs": [
        {
          "output_type": "execute_result",
          "data": {
            "text/plain": [
              "(6600, 768)"
            ]
          },
          "metadata": {},
          "execution_count": 22
        }
      ],
      "source": [
        "# выводим размерность полученной матрицы эмбеддингов\n",
        "# данная модель BERT формирует вектора текстов в 768-мерном пространстве признаков\n",
        "features.shape"
      ]
    },
    {
      "cell_type": "raw",
      "metadata": {
        "id": "MnbFhCph5_0F"
      },
      "source": [
        "# Выводим пример эмбеддинга для твита - осторожно много цифр!\n",
        "\n",
        "print(df_tweets['text'][1])\n",
        "print(features[0]);"
      ]
    },
    {
      "cell_type": "code",
      "source": [
        "pip install catboost"
      ],
      "metadata": {
        "colab": {
          "base_uri": "https://localhost:8080/"
        },
        "id": "vm8-TXFbH5so",
        "outputId": "b4741d22-ce32-4eb1-fb67-1a7bb92d0c31"
      },
      "execution_count": null,
      "outputs": [
        {
          "output_type": "stream",
          "name": "stdout",
          "text": [
            "Looking in indexes: https://pypi.org/simple, https://us-python.pkg.dev/colab-wheels/public/simple/\n",
            "Requirement already satisfied: catboost in /usr/local/lib/python3.10/dist-packages (1.2)\n",
            "Requirement already satisfied: graphviz in /usr/local/lib/python3.10/dist-packages (from catboost) (0.20.1)\n",
            "Requirement already satisfied: matplotlib in /usr/local/lib/python3.10/dist-packages (from catboost) (3.7.1)\n",
            "Requirement already satisfied: numpy>=1.16.0 in /usr/local/lib/python3.10/dist-packages (from catboost) (1.22.4)\n",
            "Requirement already satisfied: pandas>=0.24 in /usr/local/lib/python3.10/dist-packages (from catboost) (1.5.3)\n",
            "Requirement already satisfied: scipy in /usr/local/lib/python3.10/dist-packages (from catboost) (1.10.1)\n",
            "Requirement already satisfied: plotly in /usr/local/lib/python3.10/dist-packages (from catboost) (5.13.1)\n",
            "Requirement already satisfied: six in /usr/local/lib/python3.10/dist-packages (from catboost) (1.16.0)\n",
            "Requirement already satisfied: python-dateutil>=2.8.1 in /usr/local/lib/python3.10/dist-packages (from pandas>=0.24->catboost) (2.8.2)\n",
            "Requirement already satisfied: pytz>=2020.1 in /usr/local/lib/python3.10/dist-packages (from pandas>=0.24->catboost) (2022.7.1)\n",
            "Requirement already satisfied: contourpy>=1.0.1 in /usr/local/lib/python3.10/dist-packages (from matplotlib->catboost) (1.0.7)\n",
            "Requirement already satisfied: cycler>=0.10 in /usr/local/lib/python3.10/dist-packages (from matplotlib->catboost) (0.11.0)\n",
            "Requirement already satisfied: fonttools>=4.22.0 in /usr/local/lib/python3.10/dist-packages (from matplotlib->catboost) (4.39.3)\n",
            "Requirement already satisfied: kiwisolver>=1.0.1 in /usr/local/lib/python3.10/dist-packages (from matplotlib->catboost) (1.4.4)\n",
            "Requirement already satisfied: packaging>=20.0 in /usr/local/lib/python3.10/dist-packages (from matplotlib->catboost) (23.1)\n",
            "Requirement already satisfied: pillow>=6.2.0 in /usr/local/lib/python3.10/dist-packages (from matplotlib->catboost) (8.4.0)\n",
            "Requirement already satisfied: pyparsing>=2.3.1 in /usr/local/lib/python3.10/dist-packages (from matplotlib->catboost) (3.0.9)\n",
            "Requirement already satisfied: tenacity>=6.2.0 in /usr/local/lib/python3.10/dist-packages (from plotly->catboost) (8.2.2)\n"
          ]
        }
      ]
    },
    {
      "cell_type": "code",
      "source": [
        "pip install scikit-plot"
      ],
      "metadata": {
        "colab": {
          "base_uri": "https://localhost:8080/"
        },
        "id": "VEUja4LKISsy",
        "outputId": "8c83316b-7506-4cf7-ca1c-d71a9f0f3756"
      },
      "execution_count": null,
      "outputs": [
        {
          "output_type": "stream",
          "name": "stdout",
          "text": [
            "Looking in indexes: https://pypi.org/simple, https://us-python.pkg.dev/colab-wheels/public/simple/\n",
            "Requirement already satisfied: scikit-plot in /usr/local/lib/python3.10/dist-packages (0.3.7)\n",
            "Requirement already satisfied: matplotlib>=1.4.0 in /usr/local/lib/python3.10/dist-packages (from scikit-plot) (3.7.1)\n",
            "Requirement already satisfied: scikit-learn>=0.18 in /usr/local/lib/python3.10/dist-packages (from scikit-plot) (1.2.2)\n",
            "Requirement already satisfied: scipy>=0.9 in /usr/local/lib/python3.10/dist-packages (from scikit-plot) (1.10.1)\n",
            "Requirement already satisfied: joblib>=0.10 in /usr/local/lib/python3.10/dist-packages (from scikit-plot) (1.2.0)\n",
            "Requirement already satisfied: contourpy>=1.0.1 in /usr/local/lib/python3.10/dist-packages (from matplotlib>=1.4.0->scikit-plot) (1.0.7)\n",
            "Requirement already satisfied: cycler>=0.10 in /usr/local/lib/python3.10/dist-packages (from matplotlib>=1.4.0->scikit-plot) (0.11.0)\n",
            "Requirement already satisfied: fonttools>=4.22.0 in /usr/local/lib/python3.10/dist-packages (from matplotlib>=1.4.0->scikit-plot) (4.39.3)\n",
            "Requirement already satisfied: kiwisolver>=1.0.1 in /usr/local/lib/python3.10/dist-packages (from matplotlib>=1.4.0->scikit-plot) (1.4.4)\n",
            "Requirement already satisfied: numpy>=1.20 in /usr/local/lib/python3.10/dist-packages (from matplotlib>=1.4.0->scikit-plot) (1.22.4)\n",
            "Requirement already satisfied: packaging>=20.0 in /usr/local/lib/python3.10/dist-packages (from matplotlib>=1.4.0->scikit-plot) (23.1)\n",
            "Requirement already satisfied: pillow>=6.2.0 in /usr/local/lib/python3.10/dist-packages (from matplotlib>=1.4.0->scikit-plot) (8.4.0)\n",
            "Requirement already satisfied: pyparsing>=2.3.1 in /usr/local/lib/python3.10/dist-packages (from matplotlib>=1.4.0->scikit-plot) (3.0.9)\n",
            "Requirement already satisfied: python-dateutil>=2.7 in /usr/local/lib/python3.10/dist-packages (from matplotlib>=1.4.0->scikit-plot) (2.8.2)\n",
            "Requirement already satisfied: threadpoolctl>=2.0.0 in /usr/local/lib/python3.10/dist-packages (from scikit-learn>=0.18->scikit-plot) (3.1.0)\n",
            "Requirement already satisfied: six>=1.5 in /usr/local/lib/python3.10/dist-packages (from python-dateutil>=2.7->matplotlib>=1.4.0->scikit-plot) (1.16.0)\n"
          ]
        }
      ]
    },
    {
      "cell_type": "code",
      "execution_count": null,
      "metadata": {
        "collapsed": true,
        "id": "pPa7OwEq5_0F"
      },
      "outputs": [],
      "source": [
        "# Импортируем необходимые библиотеки для обучения классификатора на logreg и оценки качества\n",
        "\n",
        "from sklearn.linear_model import LogisticRegression\n",
        "from sklearn.model_selection import cross_val_score\n",
        "from sklearn.model_selection import train_test_split\n",
        "\n",
        "import numpy as np\n",
        "import pandas as pd\n",
        "import os\n",
        "from sklearn import preprocessing\n",
        "from catboost import CatBoostClassifier, Pool\n",
        "from sklearn.model_selection import StratifiedKFold\n",
        "from sklearn.metrics import roc_auc_score, accuracy_score,confusion_matrix\n",
        "from sklearn.model_selection import train_test_split,GridSearchCV\n",
        "import matplotlib.pyplot as plt\n",
        "import scikitplot as skplt\n",
        "import seaborn as sns"
      ]
    },
    {
      "cell_type": "code",
      "execution_count": null,
      "metadata": {
        "collapsed": true,
        "id": "knHLTA_Z5_0F"
      },
      "outputs": [],
      "source": [
        "# Сохраним целевую переменную: метку тональности позитив/негатив\n",
        "\n",
        "labels = df_tweets['label']"
      ]
    },
    {
      "cell_type": "code",
      "execution_count": null,
      "metadata": {
        "colab": {
          "base_uri": "https://localhost:8080/"
        },
        "id": "DLuewObE5_0F",
        "outputId": "c30d2e04-459c-4fed-e384-d0c0fbee6318"
      },
      "outputs": [
        {
          "output_type": "execute_result",
          "data": {
            "text/plain": [
              "0       0\n",
              "1       0\n",
              "2       0\n",
              "3       0\n",
              "4      -1\n",
              "       ..\n",
              "6595    1\n",
              "6596    0\n",
              "6597   -1\n",
              "6598    1\n",
              "6599    0\n",
              "Name: label, Length: 6600, dtype: int64"
            ]
          },
          "metadata": {},
          "execution_count": 27
        }
      ],
      "source": [
        "labels"
      ]
    },
    {
      "cell_type": "code",
      "execution_count": null,
      "metadata": {
        "colab": {
          "base_uri": "https://localhost:8080/"
        },
        "id": "mMJJWAwr5_0F",
        "outputId": "3c70e8e4-4fb4-475e-e640-87ae654c6afb"
      },
      "outputs": [
        {
          "output_type": "execute_result",
          "data": {
            "text/plain": [
              "(6600, 768)"
            ]
          },
          "metadata": {},
          "execution_count": 28
        }
      ],
      "source": [
        "features.shape"
      ]
    },
    {
      "cell_type": "code",
      "execution_count": null,
      "metadata": {
        "colab": {
          "base_uri": "https://localhost:8080/"
        },
        "id": "S-6JCodY5_0G",
        "outputId": "01a948fb-a927-4f60-957c-d27807c4e8e6"
      },
      "outputs": [
        {
          "output_type": "execute_result",
          "data": {
            "text/plain": [
              "(6600,)"
            ]
          },
          "metadata": {},
          "execution_count": 29
        }
      ],
      "source": [
        "labels.shape"
      ]
    },
    {
      "cell_type": "code",
      "execution_count": null,
      "metadata": {
        "collapsed": true,
        "id": "KaXJo4Oi5_0G"
      },
      "outputs": [],
      "source": [
        "# Разделяем матрицу признаков и целевую переменную на обучающий и тестовый набор\n",
        "\n",
        "train_features, test_features, train_labels, test_labels = train_test_split(features, labels[:8000], test_size=0.1, random_state=42)"
      ]
    },
    {
      "cell_type": "code",
      "execution_count": null,
      "metadata": {
        "id": "rt3CtL4l5_0G"
      },
      "outputs": [],
      "source": [
        "catboost_params = {\n",
        "    'iterations': 10000,\n",
        "    'learning_rate': 0.001,\n",
        "    'eval_metric': 'AUC',\n",
        "    #'eval_metric': 'Accuracy',\n",
        "    'loss_function': 'MultiClass',\n",
        "    'task_type': 'GPU',\n",
        "    'early_stopping_rounds': 1000,\n",
        "    'use_best_model': True,\n",
        "    'objective':\"MultiClass\",\n",
        "    'verbose': 100\n",
        "}"
      ]
    },
    {
      "cell_type": "code",
      "execution_count": null,
      "metadata": {
        "id": "qTqXd2R85_0G"
      },
      "outputs": [],
      "source": [
        "X_tr = pd.DataFrame(train_features) #X_train\n",
        "X_val =  pd.DataFrame(test_features)\n",
        "y_tr = train_labels\n",
        "y_val = test_labels\n",
        "\n",
        "train_pool = Pool(\n",
        "    X_tr, \n",
        "    y_tr\n",
        ")\n",
        "valid_pool = Pool(\n",
        "    X_val, \n",
        "    y_val\n",
        ")"
      ]
    },
    {
      "cell_type": "code",
      "execution_count": null,
      "metadata": {
        "colab": {
          "base_uri": "https://localhost:8080/"
        },
        "id": "nRXPjhD65_0G",
        "outputId": "949e5f89-fa9d-4ac7-ce20-a2a720b202a1"
      },
      "outputs": [
        {
          "output_type": "stream",
          "name": "stderr",
          "text": [
            "Default metric period is 5 because AUC is/are not implemented for GPU\n",
            "AUC is not implemented on GPU. Will use CPU for metric computation, this could significantly affect learning time\n"
          ]
        },
        {
          "output_type": "stream",
          "name": "stdout",
          "text": [
            "0:\ttest: 0.6216274\tbest: 0.6216274 (0)\ttotal: 109ms\tremaining: 18m 13s\n",
            "100:\ttest: 0.7104957\tbest: 0.7131025 (47)\ttotal: 4.12s\tremaining: 6m 43s\n",
            "200:\ttest: 0.7200818\tbest: 0.7200818 (200)\ttotal: 5.78s\tremaining: 4m 41s\n",
            "300:\ttest: 0.7269745\tbest: 0.7269745 (300)\ttotal: 7.43s\tremaining: 3m 59s\n",
            "400:\ttest: 0.7320476\tbest: 0.7320476 (400)\ttotal: 9.09s\tremaining: 3m 37s\n",
            "500:\ttest: 0.7351324\tbest: 0.7358385 (475)\ttotal: 10.8s\tremaining: 3m 23s\n",
            "600:\ttest: 0.7389636\tbest: 0.7389636 (600)\ttotal: 12.4s\tremaining: 3m 13s\n",
            "700:\ttest: 0.7419071\tbest: 0.7419071 (700)\ttotal: 16.7s\tremaining: 3m 41s\n",
            "800:\ttest: 0.7442096\tbest: 0.7442858 (798)\ttotal: 18.4s\tremaining: 3m 31s\n",
            "900:\ttest: 0.7468013\tbest: 0.7468744 (899)\ttotal: 20.2s\tremaining: 3m 23s\n",
            "1000:\ttest: 0.7492293\tbest: 0.7492625 (996)\ttotal: 21.9s\tremaining: 3m 16s\n",
            "1100:\ttest: 0.7511474\tbest: 0.7511474 (1100)\ttotal: 23.6s\tremaining: 3m 10s\n",
            "1200:\ttest: 0.7531314\tbest: 0.7531314 (1200)\ttotal: 25.3s\tremaining: 3m 5s\n",
            "1300:\ttest: 0.7544243\tbest: 0.7545418 (1286)\ttotal: 27.6s\tremaining: 3m 4s\n",
            "1400:\ttest: 0.7557674\tbest: 0.7557674 (1400)\ttotal: 31.3s\tremaining: 3m 12s\n",
            "1500:\ttest: 0.7576786\tbest: 0.7578297 (1491)\ttotal: 33s\tremaining: 3m 6s\n",
            "1600:\ttest: 0.7597058\tbest: 0.7597058 (1600)\ttotal: 34.7s\tremaining: 3m 2s\n",
            "1700:\ttest: 0.7608239\tbest: 0.7609211 (1698)\ttotal: 36.4s\tremaining: 2m 57s\n",
            "1800:\ttest: 0.7627120\tbest: 0.7628065 (1778)\ttotal: 38.1s\tremaining: 2m 53s\n",
            "1900:\ttest: 0.7634032\tbest: 0.7637756 (1886)\ttotal: 39.8s\tremaining: 2m 49s\n",
            "2000:\ttest: 0.7652937\tbest: 0.7652937 (2000)\ttotal: 43.9s\tremaining: 2m 55s\n",
            "2100:\ttest: 0.7662734\tbest: 0.7662734 (2100)\ttotal: 45.8s\tremaining: 2m 52s\n",
            "2200:\ttest: 0.7670873\tbest: 0.7671679 (2193)\ttotal: 47.5s\tremaining: 2m 48s\n",
            "2300:\ttest: 0.7683430\tbest: 0.7684034 (2293)\ttotal: 49.1s\tremaining: 2m 44s\n",
            "2400:\ttest: 0.7693663\tbest: 0.7695566 (2371)\ttotal: 50.9s\tremaining: 2m 41s\n",
            "2500:\ttest: 0.7704162\tbest: 0.7704455 (2497)\ttotal: 52.6s\tremaining: 2m 37s\n",
            "2600:\ttest: 0.7715756\tbest: 0.7716170 (2596)\ttotal: 54.6s\tremaining: 2m 35s\n",
            "2700:\ttest: 0.7719646\tbest: 0.7721603 (2680)\ttotal: 58.7s\tremaining: 2m 38s\n",
            "2800:\ttest: 0.7726639\tbest: 0.7726639 (2800)\ttotal: 1m\tremaining: 2m 35s\n",
            "2900:\ttest: 0.7729957\tbest: 0.7732107 (2891)\ttotal: 1m 2s\tremaining: 2m 31s\n",
            "3000:\ttest: 0.7737596\tbest: 0.7738898 (2988)\ttotal: 1m 3s\tremaining: 2m 28s\n",
            "3100:\ttest: 0.7742711\tbest: 0.7744653 (3093)\ttotal: 1m 5s\tremaining: 2m 25s\n",
            "3200:\ttest: 0.7746749\tbest: 0.7747631 (3165)\ttotal: 1m 7s\tremaining: 2m 22s\n",
            "3300:\ttest: 0.7757269\tbest: 0.7757449 (3296)\ttotal: 1m 11s\tremaining: 2m 24s\n",
            "3400:\ttest: 0.7765781\tbest: 0.7766272 (3394)\ttotal: 1m 13s\tremaining: 2m 21s\n",
            "3500:\ttest: 0.7772494\tbest: 0.7772494 (3500)\ttotal: 1m 14s\tremaining: 2m 18s\n",
            "3600:\ttest: 0.7780358\tbest: 0.7780960 (3593)\ttotal: 1m 16s\tremaining: 2m 15s\n",
            "3700:\ttest: 0.7783858\tbest: 0.7785655 (3685)\ttotal: 1m 18s\tremaining: 2m 12s\n",
            "3800:\ttest: 0.7794285\tbest: 0.7794927 (3799)\ttotal: 1m 19s\tremaining: 2m 9s\n",
            "3900:\ttest: 0.7801630\tbest: 0.7801630 (3900)\ttotal: 1m 21s\tremaining: 2m 7s\n",
            "4000:\ttest: 0.7808770\tbest: 0.7809540 (3992)\ttotal: 1m 26s\tremaining: 2m 9s\n",
            "4100:\ttest: 0.7817376\tbest: 0.7817883 (4096)\ttotal: 1m 28s\tremaining: 2m 6s\n",
            "4200:\ttest: 0.7824639\tbest: 0.7824639 (4200)\ttotal: 1m 29s\tremaining: 2m 3s\n",
            "4300:\ttest: 0.7826854\tbest: 0.7827047 (4266)\ttotal: 1m 31s\tremaining: 2m 1s\n",
            "4400:\ttest: 0.7831066\tbest: 0.7831616 (4396)\ttotal: 1m 33s\tremaining: 1m 58s\n",
            "4500:\ttest: 0.7833680\tbest: 0.7835981 (4429)\ttotal: 1m 34s\tremaining: 1m 55s\n",
            "4600:\ttest: 0.7838942\tbest: 0.7838942 (4600)\ttotal: 1m 39s\tremaining: 1m 56s\n",
            "4700:\ttest: 0.7843480\tbest: 0.7844092 (4684)\ttotal: 1m 40s\tremaining: 1m 53s\n",
            "4800:\ttest: 0.7848950\tbest: 0.7849425 (4793)\ttotal: 1m 42s\tremaining: 1m 50s\n",
            "4900:\ttest: 0.7853960\tbest: 0.7855169 (4885)\ttotal: 1m 44s\tremaining: 1m 48s\n",
            "5000:\ttest: 0.7859175\tbest: 0.7859175 (5000)\ttotal: 1m 45s\tremaining: 1m 45s\n",
            "5100:\ttest: 0.7858281\tbest: 0.7860698 (5058)\ttotal: 1m 47s\tremaining: 1m 43s\n",
            "5200:\ttest: 0.7863614\tbest: 0.7864438 (5184)\ttotal: 1m 49s\tremaining: 1m 40s\n",
            "5300:\ttest: 0.7865542\tbest: 0.7866676 (5295)\ttotal: 1m 53s\tremaining: 1m 40s\n",
            "5400:\ttest: 0.7868214\tbest: 0.7869635 (5382)\ttotal: 1m 55s\tremaining: 1m 38s\n",
            "5500:\ttest: 0.7871282\tbest: 0.7871282 (5500)\ttotal: 1m 56s\tremaining: 1m 35s\n",
            "5600:\ttest: 0.7876428\tbest: 0.7876428 (5600)\ttotal: 1m 58s\tremaining: 1m 32s\n",
            "5700:\ttest: 0.7880749\tbest: 0.7880779 (5697)\ttotal: 2m\tremaining: 1m 30s\n",
            "5800:\ttest: 0.7881597\tbest: 0.7882842 (5774)\ttotal: 2m 1s\tremaining: 1m 28s\n",
            "5900:\ttest: 0.7887549\tbest: 0.7887549 (5900)\ttotal: 2m 4s\tremaining: 1m 26s\n",
            "6000:\ttest: 0.7886897\tbest: 0.7888022 (5981)\ttotal: 2m 7s\tremaining: 1m 25s\n",
            "6100:\ttest: 0.7892812\tbest: 0.7893198 (6097)\ttotal: 2m 10s\tremaining: 1m 23s\n",
            "6200:\ttest: 0.7895107\tbest: 0.7895848 (6199)\ttotal: 2m 11s\tremaining: 1m 20s\n",
            "6300:\ttest: 0.7900174\tbest: 0.7900174 (6300)\ttotal: 2m 13s\tremaining: 1m 18s\n",
            "6400:\ttest: 0.7902482\tbest: 0.7903258 (6398)\ttotal: 2m 15s\tremaining: 1m 16s\n",
            "6500:\ttest: 0.7905810\tbest: 0.7906314 (6498)\ttotal: 2m 18s\tremaining: 1m 14s\n",
            "6600:\ttest: 0.7909080\tbest: 0.7909080 (6600)\ttotal: 2m 21s\tremaining: 1m 12s\n",
            "6700:\ttest: 0.7908925\tbest: 0.7909979 (6642)\ttotal: 2m 22s\tremaining: 1m 10s\n",
            "6800:\ttest: 0.7912709\tbest: 0.7914022 (6794)\ttotal: 2m 24s\tremaining: 1m 7s\n",
            "6900:\ttest: 0.7916974\tbest: 0.7917464 (6894)\ttotal: 2m 26s\tremaining: 1m 5s\n",
            "7000:\ttest: 0.7917421\tbest: 0.7918536 (6914)\ttotal: 2m 27s\tremaining: 1m 3s\n",
            "7100:\ttest: 0.7918039\tbest: 0.7919263 (7097)\ttotal: 2m 29s\tremaining: 1m 1s\n",
            "7200:\ttest: 0.7922503\tbest: 0.7922799 (7197)\ttotal: 2m 33s\tremaining: 59.8s\n",
            "7300:\ttest: 0.7920756\tbest: 0.7923169 (7203)\ttotal: 2m 35s\tremaining: 57.5s\n",
            "7400:\ttest: 0.7924421\tbest: 0.7925530 (7395)\ttotal: 2m 37s\tremaining: 55.2s\n",
            "7500:\ttest: 0.7924323\tbest: 0.7925795 (7414)\ttotal: 2m 38s\tremaining: 52.9s\n",
            "7600:\ttest: 0.7925991\tbest: 0.7926391 (7580)\ttotal: 2m 40s\tremaining: 50.7s\n",
            "7700:\ttest: 0.7930231\tbest: 0.7931128 (7692)\ttotal: 2m 42s\tremaining: 48.4s\n",
            "7800:\ttest: 0.7931832\tbest: 0.7932481 (7771)\ttotal: 2m 44s\tremaining: 46.3s\n",
            "7900:\ttest: 0.7933129\tbest: 0.7933841 (7839)\ttotal: 2m 48s\tremaining: 44.6s\n",
            "8000:\ttest: 0.7934225\tbest: 0.7935510 (7968)\ttotal: 2m 49s\tremaining: 42.4s\n",
            "8100:\ttest: 0.7937320\tbest: 0.7937397 (8088)\ttotal: 2m 51s\tremaining: 40.2s\n",
            "8200:\ttest: 0.7937257\tbest: 0.7937656 (8172)\ttotal: 2m 53s\tremaining: 38s\n",
            "8300:\ttest: 0.7939244\tbest: 0.7939244 (8300)\ttotal: 2m 54s\tremaining: 35.8s\n",
            "8400:\ttest: 0.7940206\tbest: 0.7940393 (8370)\ttotal: 2m 56s\tremaining: 33.6s\n",
            "8500:\ttest: 0.7942692\tbest: 0.7942843 (8499)\ttotal: 2m 59s\tremaining: 31.7s\n",
            "8600:\ttest: 0.7945683\tbest: 0.7947022 (8581)\ttotal: 3m 2s\tremaining: 29.6s\n",
            "8700:\ttest: 0.7949758\tbest: 0.7950637 (8685)\ttotal: 3m 3s\tremaining: 27.4s\n",
            "8800:\ttest: 0.7953979\tbest: 0.7954161 (8773)\ttotal: 3m 5s\tremaining: 25.3s\n",
            "8900:\ttest: 0.7955084\tbest: 0.7956480 (8832)\ttotal: 3m 7s\tremaining: 23.1s\n",
            "9000:\ttest: 0.7957755\tbest: 0.7957923 (8952)\ttotal: 3m 8s\tremaining: 20.9s\n",
            "9100:\ttest: 0.7962735\tbest: 0.7962954 (9099)\ttotal: 3m 10s\tremaining: 18.8s\n",
            "9200:\ttest: 0.7959279\tbest: 0.7962954 (9099)\ttotal: 3m 14s\tremaining: 16.9s\n",
            "9300:\ttest: 0.7960062\tbest: 0.7962954 (9099)\ttotal: 3m 16s\tremaining: 14.8s\n",
            "9400:\ttest: 0.7961717\tbest: 0.7962954 (9099)\ttotal: 3m 17s\tremaining: 12.6s\n",
            "9500:\ttest: 0.7962428\tbest: 0.7962954 (9099)\ttotal: 3m 19s\tremaining: 10.5s\n",
            "9600:\ttest: 0.7963960\tbest: 0.7964732 (9595)\ttotal: 3m 21s\tremaining: 8.36s\n",
            "9700:\ttest: 0.7967868\tbest: 0.7967868 (9700)\ttotal: 3m 22s\tremaining: 6.25s\n",
            "9800:\ttest: 0.7968072\tbest: 0.7968592 (9714)\ttotal: 3m 24s\tremaining: 4.16s\n",
            "9900:\ttest: 0.7967960\tbest: 0.7968592 (9714)\ttotal: 3m 28s\tremaining: 2.09s\n",
            "9999:\ttest: 0.7970081\tbest: 0.7970541 (9996)\ttotal: 3m 30s\tremaining: 0us\n",
            "bestTest = 0.7970541401\n",
            "bestIteration = 9996\n",
            "Shrink model to first 9997 iterations.\n"
          ]
        },
        {
          "output_type": "execute_result",
          "data": {
            "text/plain": [
              "<catboost.core.CatBoostClassifier at 0x7fdebac5e800>"
            ]
          },
          "metadata": {},
          "execution_count": 33
        }
      ],
      "source": [
        "model = CatBoostClassifier(**catboost_params)\n",
        "model.fit(train_pool, eval_set=valid_pool)"
      ]
    },
    {
      "cell_type": "code",
      "execution_count": null,
      "metadata": {
        "id": "rBRWtpef5_0G"
      },
      "outputs": [],
      "source": [
        "import random"
      ]
    },
    {
      "cell_type": "code",
      "execution_count": null,
      "metadata": {
        "colab": {
          "base_uri": "https://localhost:8080/"
        },
        "id": "OnERlwns5_0H",
        "outputId": "4054caa1-8547-483c-9d2a-f487aed65f7b"
      },
      "outputs": [
        {
          "output_type": "stream",
          "name": "stdout",
          "text": [
            "Text: 25 июня 2013 года президент Чехии Милош Земан предпочел назвать имя своего кандидата в премьер-министры.\n",
            "Predict label:  [0]\n",
            "True label:  0\n"
          ]
        }
      ],
      "source": [
        "# делаем пробное предсказание\n",
        "tweet_index = random.randint(1,8000)\n",
        "\n",
        "print('Text: ' + df_tweets['sentence'][tweet_index])\n",
        "print('Predict label: ', model.predict(features[tweet_index:tweet_index+1][:])[0])\n",
        "print('True label: ', df_tweets['label'][tweet_index])\n"
      ]
    },
    {
      "cell_type": "code",
      "execution_count": null,
      "metadata": {
        "colab": {
          "base_uri": "https://localhost:8080/"
        },
        "id": "nQHmo8GH5_0H",
        "outputId": "ea6e3f1f-fd45-4ca1-b10f-1dfae360220e"
      },
      "outputs": [
        {
          "output_type": "execute_result",
          "data": {
            "text/plain": [
              "0.7196969696969697"
            ]
          },
          "metadata": {},
          "execution_count": 39
        }
      ],
      "source": [
        "# оцениваем accuracy на тестовой выборке\n",
        "\n",
        "model.score(test_features, test_labels)"
      ]
    },
    {
      "cell_type": "code",
      "execution_count": null,
      "metadata": {
        "colab": {
          "base_uri": "https://localhost:8080/"
        },
        "id": "r0HCGFvz5_0H",
        "outputId": "0473c655-c432-4a26-f972-0ae20fca8ea5"
      },
      "outputs": [
        {
          "output_type": "stream",
          "name": "stderr",
          "text": [
            "100%|██████████| 4000/4000 [00:37<00:00, 107.30it/s]\n"
          ]
        }
      ],
      "source": [
        "d = []\n",
        "for idx, tt in enumerate(tqdm(df_tweets['sentence'].head(4000))):\n",
        "    try:\n",
        "        d.append(\n",
        "            {\n",
        "                'text': tt,\n",
        "                'predict': model.predict(features[idx:idx+1][:])[0][0],\n",
        "                'gtrue': df_tweets['label'][idx]\n",
        "            }\n",
        "        )\n",
        "    except:\n",
        "        pass\n",
        "    #print(max(res,key=itemgetter(1))[0])    \n",
        "df_train = pd.DataFrame(d)    "
      ]
    },
    {
      "cell_type": "code",
      "source": [
        "df_train"
      ],
      "metadata": {
        "colab": {
          "base_uri": "https://localhost:8080/",
          "height": 423
        },
        "id": "GVuLlFB4L8vA",
        "outputId": "789aa270-ab37-4630-d6bb-c518f7bc81d0"
      },
      "execution_count": null,
      "outputs": [
        {
          "output_type": "execute_result",
          "data": {
            "text/plain": [
              "                                                   text  predict  gtrue\n",
              "0     Джеймс «Бадди» Макгирт (James (Buddy) McGirt, ...        0      0\n",
              "1     «За всю нашу долгую карьеру нам довелось играт...        0      0\n",
              "2     Ранее, 7 декабря, толпа болельщиков перекрыла ...        0      0\n",
              "3     В субботу, 21 июля 2018 года, на арене СК «Оли...        0      0\n",
              "4     Представитель талибов Забиулла Муджахид в твит...        0     -1\n",
              "...                                                 ...      ...    ...\n",
              "3995  В знак протеста против поведения единороссов, ...        0      0\n",
              "3996  Дейенерис Таргариен и Джон Сноу на драконах не...        0     -1\n",
              "3997  В Израиле отмечают Йом Ха-Зикарон - День памят...        0      0\n",
              "3998  Кроме того, при атаке были ранены пятеро военн...        0      0\n",
              "3999  Отравление Скрипаля: следы нервно-паралитическ...        0      0\n",
              "\n",
              "[4000 rows x 3 columns]"
            ],
            "text/html": [
              "\n",
              "  <div id=\"df-337c6b8b-2f25-4f06-88ae-4e2790ffa617\">\n",
              "    <div class=\"colab-df-container\">\n",
              "      <div>\n",
              "<style scoped>\n",
              "    .dataframe tbody tr th:only-of-type {\n",
              "        vertical-align: middle;\n",
              "    }\n",
              "\n",
              "    .dataframe tbody tr th {\n",
              "        vertical-align: top;\n",
              "    }\n",
              "\n",
              "    .dataframe thead th {\n",
              "        text-align: right;\n",
              "    }\n",
              "</style>\n",
              "<table border=\"1\" class=\"dataframe\">\n",
              "  <thead>\n",
              "    <tr style=\"text-align: right;\">\n",
              "      <th></th>\n",
              "      <th>text</th>\n",
              "      <th>predict</th>\n",
              "      <th>gtrue</th>\n",
              "    </tr>\n",
              "  </thead>\n",
              "  <tbody>\n",
              "    <tr>\n",
              "      <th>0</th>\n",
              "      <td>Джеймс «Бадди» Макгирт (James (Buddy) McGirt, ...</td>\n",
              "      <td>0</td>\n",
              "      <td>0</td>\n",
              "    </tr>\n",
              "    <tr>\n",
              "      <th>1</th>\n",
              "      <td>«За всю нашу долгую карьеру нам довелось играт...</td>\n",
              "      <td>0</td>\n",
              "      <td>0</td>\n",
              "    </tr>\n",
              "    <tr>\n",
              "      <th>2</th>\n",
              "      <td>Ранее, 7 декабря, толпа болельщиков перекрыла ...</td>\n",
              "      <td>0</td>\n",
              "      <td>0</td>\n",
              "    </tr>\n",
              "    <tr>\n",
              "      <th>3</th>\n",
              "      <td>В субботу, 21 июля 2018 года, на арене СК «Оли...</td>\n",
              "      <td>0</td>\n",
              "      <td>0</td>\n",
              "    </tr>\n",
              "    <tr>\n",
              "      <th>4</th>\n",
              "      <td>Представитель талибов Забиулла Муджахид в твит...</td>\n",
              "      <td>0</td>\n",
              "      <td>-1</td>\n",
              "    </tr>\n",
              "    <tr>\n",
              "      <th>...</th>\n",
              "      <td>...</td>\n",
              "      <td>...</td>\n",
              "      <td>...</td>\n",
              "    </tr>\n",
              "    <tr>\n",
              "      <th>3995</th>\n",
              "      <td>В знак протеста против поведения единороссов, ...</td>\n",
              "      <td>0</td>\n",
              "      <td>0</td>\n",
              "    </tr>\n",
              "    <tr>\n",
              "      <th>3996</th>\n",
              "      <td>Дейенерис Таргариен и Джон Сноу на драконах не...</td>\n",
              "      <td>0</td>\n",
              "      <td>-1</td>\n",
              "    </tr>\n",
              "    <tr>\n",
              "      <th>3997</th>\n",
              "      <td>В Израиле отмечают Йом Ха-Зикарон - День памят...</td>\n",
              "      <td>0</td>\n",
              "      <td>0</td>\n",
              "    </tr>\n",
              "    <tr>\n",
              "      <th>3998</th>\n",
              "      <td>Кроме того, при атаке были ранены пятеро военн...</td>\n",
              "      <td>0</td>\n",
              "      <td>0</td>\n",
              "    </tr>\n",
              "    <tr>\n",
              "      <th>3999</th>\n",
              "      <td>Отравление Скрипаля: следы нервно-паралитическ...</td>\n",
              "      <td>0</td>\n",
              "      <td>0</td>\n",
              "    </tr>\n",
              "  </tbody>\n",
              "</table>\n",
              "<p>4000 rows × 3 columns</p>\n",
              "</div>\n",
              "      <button class=\"colab-df-convert\" onclick=\"convertToInteractive('df-337c6b8b-2f25-4f06-88ae-4e2790ffa617')\"\n",
              "              title=\"Convert this dataframe to an interactive table.\"\n",
              "              style=\"display:none;\">\n",
              "        \n",
              "  <svg xmlns=\"http://www.w3.org/2000/svg\" height=\"24px\"viewBox=\"0 0 24 24\"\n",
              "       width=\"24px\">\n",
              "    <path d=\"M0 0h24v24H0V0z\" fill=\"none\"/>\n",
              "    <path d=\"M18.56 5.44l.94 2.06.94-2.06 2.06-.94-2.06-.94-.94-2.06-.94 2.06-2.06.94zm-11 1L8.5 8.5l.94-2.06 2.06-.94-2.06-.94L8.5 2.5l-.94 2.06-2.06.94zm10 10l.94 2.06.94-2.06 2.06-.94-2.06-.94-.94-2.06-.94 2.06-2.06.94z\"/><path d=\"M17.41 7.96l-1.37-1.37c-.4-.4-.92-.59-1.43-.59-.52 0-1.04.2-1.43.59L10.3 9.45l-7.72 7.72c-.78.78-.78 2.05 0 2.83L4 21.41c.39.39.9.59 1.41.59.51 0 1.02-.2 1.41-.59l7.78-7.78 2.81-2.81c.8-.78.8-2.07 0-2.86zM5.41 20L4 18.59l7.72-7.72 1.47 1.35L5.41 20z\"/>\n",
              "  </svg>\n",
              "      </button>\n",
              "      \n",
              "  <style>\n",
              "    .colab-df-container {\n",
              "      display:flex;\n",
              "      flex-wrap:wrap;\n",
              "      gap: 12px;\n",
              "    }\n",
              "\n",
              "    .colab-df-convert {\n",
              "      background-color: #E8F0FE;\n",
              "      border: none;\n",
              "      border-radius: 50%;\n",
              "      cursor: pointer;\n",
              "      display: none;\n",
              "      fill: #1967D2;\n",
              "      height: 32px;\n",
              "      padding: 0 0 0 0;\n",
              "      width: 32px;\n",
              "    }\n",
              "\n",
              "    .colab-df-convert:hover {\n",
              "      background-color: #E2EBFA;\n",
              "      box-shadow: 0px 1px 2px rgba(60, 64, 67, 0.3), 0px 1px 3px 1px rgba(60, 64, 67, 0.15);\n",
              "      fill: #174EA6;\n",
              "    }\n",
              "\n",
              "    [theme=dark] .colab-df-convert {\n",
              "      background-color: #3B4455;\n",
              "      fill: #D2E3FC;\n",
              "    }\n",
              "\n",
              "    [theme=dark] .colab-df-convert:hover {\n",
              "      background-color: #434B5C;\n",
              "      box-shadow: 0px 1px 3px 1px rgba(0, 0, 0, 0.15);\n",
              "      filter: drop-shadow(0px 1px 2px rgba(0, 0, 0, 0.3));\n",
              "      fill: #FFFFFF;\n",
              "    }\n",
              "  </style>\n",
              "\n",
              "      <script>\n",
              "        const buttonEl =\n",
              "          document.querySelector('#df-337c6b8b-2f25-4f06-88ae-4e2790ffa617 button.colab-df-convert');\n",
              "        buttonEl.style.display =\n",
              "          google.colab.kernel.accessAllowed ? 'block' : 'none';\n",
              "\n",
              "        async function convertToInteractive(key) {\n",
              "          const element = document.querySelector('#df-337c6b8b-2f25-4f06-88ae-4e2790ffa617');\n",
              "          const dataTable =\n",
              "            await google.colab.kernel.invokeFunction('convertToInteractive',\n",
              "                                                     [key], {});\n",
              "          if (!dataTable) return;\n",
              "\n",
              "          const docLinkHtml = 'Like what you see? Visit the ' +\n",
              "            '<a target=\"_blank\" href=https://colab.research.google.com/notebooks/data_table.ipynb>data table notebook</a>'\n",
              "            + ' to learn more about interactive tables.';\n",
              "          element.innerHTML = '';\n",
              "          dataTable['output_type'] = 'display_data';\n",
              "          await google.colab.output.renderOutput(dataTable, element);\n",
              "          const docLink = document.createElement('div');\n",
              "          docLink.innerHTML = docLinkHtml;\n",
              "          element.appendChild(docLink);\n",
              "        }\n",
              "      </script>\n",
              "    </div>\n",
              "  </div>\n",
              "  "
            ]
          },
          "metadata": {},
          "execution_count": 49
        }
      ]
    },
    {
      "cell_type": "code",
      "execution_count": null,
      "metadata": {
        "colab": {
          "base_uri": "https://localhost:8080/"
        },
        "id": "5r6EzkTI5_0H",
        "outputId": "d535a58a-0315-4b94-b404-bb7e43db830f"
      },
      "outputs": [
        {
          "output_type": "execute_result",
          "data": {
            "text/plain": [
              " 0    3718\n",
              "-1     187\n",
              " 1      95\n",
              "Name: predict, dtype: int64"
            ]
          },
          "metadata": {},
          "execution_count": 50
        }
      ],
      "source": [
        "df_train.predict.value_counts()"
      ]
    },
    {
      "cell_type": "code",
      "execution_count": null,
      "metadata": {
        "colab": {
          "base_uri": "https://localhost:8080/"
        },
        "id": "23zYL6QY5_0H",
        "outputId": "9460c9d9-7af3-4c4c-cf5c-9d93d1a2da64"
      },
      "outputs": [
        {
          "output_type": "execute_result",
          "data": {
            "text/plain": [
              " 0    2867\n",
              "-1     616\n",
              " 1     517\n",
              "Name: gtrue, dtype: int64"
            ]
          },
          "metadata": {},
          "execution_count": 51
        }
      ],
      "source": [
        "df_train.gtrue.value_counts()"
      ]
    },
    {
      "cell_type": "code",
      "execution_count": null,
      "metadata": {
        "id": "VsEIdw5M5_0H"
      },
      "outputs": [],
      "source": [
        "import pandas as pd\n",
        "\n",
        "def confusion_matrix(df: pd.DataFrame, col1: str, col2: str):\n",
        "    \"\"\"\n",
        "    Given a dataframe with at least\n",
        "    two categorical columns, create a \n",
        "    confusion matrix of the count of the columns\n",
        "    cross-counts\n",
        "    \n",
        "    use like:\n",
        "    \n",
        "    >>> confusion_matrix(test_df, 'actual_label', 'predicted_label')\n",
        "    \"\"\"\n",
        "    return (\n",
        "            df\n",
        "            .groupby([col1, col2])\n",
        "            .size()\n",
        "            .unstack(fill_value=0)\n",
        "            )"
      ]
    },
    {
      "cell_type": "code",
      "execution_count": null,
      "metadata": {
        "colab": {
          "base_uri": "https://localhost:8080/",
          "height": 175
        },
        "id": "NMRlUAds5_0H",
        "outputId": "1e45342e-83dd-4ef3-8c92-82483a40cf81"
      },
      "outputs": [
        {
          "output_type": "execute_result",
          "data": {
            "text/plain": [
              "gtrue     -1     0    1\n",
              "predict                \n",
              "-1       150    25   12\n",
              " 0       465  2830  423\n",
              " 1         1    12   82"
            ],
            "text/html": [
              "\n",
              "  <div id=\"df-47b1d350-0d69-4e29-a9cf-dbdca8a0b7b7\">\n",
              "    <div class=\"colab-df-container\">\n",
              "      <div>\n",
              "<style scoped>\n",
              "    .dataframe tbody tr th:only-of-type {\n",
              "        vertical-align: middle;\n",
              "    }\n",
              "\n",
              "    .dataframe tbody tr th {\n",
              "        vertical-align: top;\n",
              "    }\n",
              "\n",
              "    .dataframe thead th {\n",
              "        text-align: right;\n",
              "    }\n",
              "</style>\n",
              "<table border=\"1\" class=\"dataframe\">\n",
              "  <thead>\n",
              "    <tr style=\"text-align: right;\">\n",
              "      <th>gtrue</th>\n",
              "      <th>-1</th>\n",
              "      <th>0</th>\n",
              "      <th>1</th>\n",
              "    </tr>\n",
              "    <tr>\n",
              "      <th>predict</th>\n",
              "      <th></th>\n",
              "      <th></th>\n",
              "      <th></th>\n",
              "    </tr>\n",
              "  </thead>\n",
              "  <tbody>\n",
              "    <tr>\n",
              "      <th>-1</th>\n",
              "      <td>150</td>\n",
              "      <td>25</td>\n",
              "      <td>12</td>\n",
              "    </tr>\n",
              "    <tr>\n",
              "      <th>0</th>\n",
              "      <td>465</td>\n",
              "      <td>2830</td>\n",
              "      <td>423</td>\n",
              "    </tr>\n",
              "    <tr>\n",
              "      <th>1</th>\n",
              "      <td>1</td>\n",
              "      <td>12</td>\n",
              "      <td>82</td>\n",
              "    </tr>\n",
              "  </tbody>\n",
              "</table>\n",
              "</div>\n",
              "      <button class=\"colab-df-convert\" onclick=\"convertToInteractive('df-47b1d350-0d69-4e29-a9cf-dbdca8a0b7b7')\"\n",
              "              title=\"Convert this dataframe to an interactive table.\"\n",
              "              style=\"display:none;\">\n",
              "        \n",
              "  <svg xmlns=\"http://www.w3.org/2000/svg\" height=\"24px\"viewBox=\"0 0 24 24\"\n",
              "       width=\"24px\">\n",
              "    <path d=\"M0 0h24v24H0V0z\" fill=\"none\"/>\n",
              "    <path d=\"M18.56 5.44l.94 2.06.94-2.06 2.06-.94-2.06-.94-.94-2.06-.94 2.06-2.06.94zm-11 1L8.5 8.5l.94-2.06 2.06-.94-2.06-.94L8.5 2.5l-.94 2.06-2.06.94zm10 10l.94 2.06.94-2.06 2.06-.94-2.06-.94-.94-2.06-.94 2.06-2.06.94z\"/><path d=\"M17.41 7.96l-1.37-1.37c-.4-.4-.92-.59-1.43-.59-.52 0-1.04.2-1.43.59L10.3 9.45l-7.72 7.72c-.78.78-.78 2.05 0 2.83L4 21.41c.39.39.9.59 1.41.59.51 0 1.02-.2 1.41-.59l7.78-7.78 2.81-2.81c.8-.78.8-2.07 0-2.86zM5.41 20L4 18.59l7.72-7.72 1.47 1.35L5.41 20z\"/>\n",
              "  </svg>\n",
              "      </button>\n",
              "      \n",
              "  <style>\n",
              "    .colab-df-container {\n",
              "      display:flex;\n",
              "      flex-wrap:wrap;\n",
              "      gap: 12px;\n",
              "    }\n",
              "\n",
              "    .colab-df-convert {\n",
              "      background-color: #E8F0FE;\n",
              "      border: none;\n",
              "      border-radius: 50%;\n",
              "      cursor: pointer;\n",
              "      display: none;\n",
              "      fill: #1967D2;\n",
              "      height: 32px;\n",
              "      padding: 0 0 0 0;\n",
              "      width: 32px;\n",
              "    }\n",
              "\n",
              "    .colab-df-convert:hover {\n",
              "      background-color: #E2EBFA;\n",
              "      box-shadow: 0px 1px 2px rgba(60, 64, 67, 0.3), 0px 1px 3px 1px rgba(60, 64, 67, 0.15);\n",
              "      fill: #174EA6;\n",
              "    }\n",
              "\n",
              "    [theme=dark] .colab-df-convert {\n",
              "      background-color: #3B4455;\n",
              "      fill: #D2E3FC;\n",
              "    }\n",
              "\n",
              "    [theme=dark] .colab-df-convert:hover {\n",
              "      background-color: #434B5C;\n",
              "      box-shadow: 0px 1px 3px 1px rgba(0, 0, 0, 0.15);\n",
              "      filter: drop-shadow(0px 1px 2px rgba(0, 0, 0, 0.3));\n",
              "      fill: #FFFFFF;\n",
              "    }\n",
              "  </style>\n",
              "\n",
              "      <script>\n",
              "        const buttonEl =\n",
              "          document.querySelector('#df-47b1d350-0d69-4e29-a9cf-dbdca8a0b7b7 button.colab-df-convert');\n",
              "        buttonEl.style.display =\n",
              "          google.colab.kernel.accessAllowed ? 'block' : 'none';\n",
              "\n",
              "        async function convertToInteractive(key) {\n",
              "          const element = document.querySelector('#df-47b1d350-0d69-4e29-a9cf-dbdca8a0b7b7');\n",
              "          const dataTable =\n",
              "            await google.colab.kernel.invokeFunction('convertToInteractive',\n",
              "                                                     [key], {});\n",
              "          if (!dataTable) return;\n",
              "\n",
              "          const docLinkHtml = 'Like what you see? Visit the ' +\n",
              "            '<a target=\"_blank\" href=https://colab.research.google.com/notebooks/data_table.ipynb>data table notebook</a>'\n",
              "            + ' to learn more about interactive tables.';\n",
              "          element.innerHTML = '';\n",
              "          dataTable['output_type'] = 'display_data';\n",
              "          await google.colab.output.renderOutput(dataTable, element);\n",
              "          const docLink = document.createElement('div');\n",
              "          docLink.innerHTML = docLinkHtml;\n",
              "          element.appendChild(docLink);\n",
              "        }\n",
              "      </script>\n",
              "    </div>\n",
              "  </div>\n",
              "  "
            ]
          },
          "metadata": {},
          "execution_count": 53
        }
      ],
      "source": [
        "confusion_matrix(df_train,'predict','gtrue')"
      ]
    },
    {
      "cell_type": "code",
      "execution_count": null,
      "metadata": {
        "id": "LgJvfiYE5_0I"
      },
      "outputs": [],
      "source": []
    },
    {
      "cell_type": "code",
      "execution_count": null,
      "metadata": {
        "id": "PgWe_aKf5_0I"
      },
      "outputs": [],
      "source": []
    },
    {
      "cell_type": "code",
      "execution_count": null,
      "metadata": {
        "id": "X1ovpOto5_0I"
      },
      "outputs": [],
      "source": []
    },
    {
      "cell_type": "code",
      "execution_count": null,
      "metadata": {
        "colab": {
          "base_uri": "https://localhost:8080/",
          "height": 233
        },
        "id": "wAsTnn7b5_0I",
        "outputId": "daf0e6d7-1539-405e-bf2b-dd081d765f07"
      },
      "outputs": [
        {
          "output_type": "stream",
          "name": "stderr",
          "text": [
            "/usr/local/lib/python3.10/dist-packages/sklearn/linear_model/_logistic.py:458: ConvergenceWarning: lbfgs failed to converge (status=1):\n",
            "STOP: TOTAL NO. of ITERATIONS REACHED LIMIT.\n",
            "\n",
            "Increase the number of iterations (max_iter) or scale the data as shown in:\n",
            "    https://scikit-learn.org/stable/modules/preprocessing.html\n",
            "Please also refer to the documentation for alternative solver options:\n",
            "    https://scikit-learn.org/stable/modules/linear_model.html#logistic-regression\n",
            "  n_iter_i = _check_optimize_result(\n"
          ]
        },
        {
          "output_type": "execute_result",
          "data": {
            "text/plain": [
              "LogisticRegression(class_weight='balanced', random_state=42)"
            ],
            "text/html": [
              "<style>#sk-container-id-1 {color: black;background-color: white;}#sk-container-id-1 pre{padding: 0;}#sk-container-id-1 div.sk-toggleable {background-color: white;}#sk-container-id-1 label.sk-toggleable__label {cursor: pointer;display: block;width: 100%;margin-bottom: 0;padding: 0.3em;box-sizing: border-box;text-align: center;}#sk-container-id-1 label.sk-toggleable__label-arrow:before {content: \"▸\";float: left;margin-right: 0.25em;color: #696969;}#sk-container-id-1 label.sk-toggleable__label-arrow:hover:before {color: black;}#sk-container-id-1 div.sk-estimator:hover label.sk-toggleable__label-arrow:before {color: black;}#sk-container-id-1 div.sk-toggleable__content {max-height: 0;max-width: 0;overflow: hidden;text-align: left;background-color: #f0f8ff;}#sk-container-id-1 div.sk-toggleable__content pre {margin: 0.2em;color: black;border-radius: 0.25em;background-color: #f0f8ff;}#sk-container-id-1 input.sk-toggleable__control:checked~div.sk-toggleable__content {max-height: 200px;max-width: 100%;overflow: auto;}#sk-container-id-1 input.sk-toggleable__control:checked~label.sk-toggleable__label-arrow:before {content: \"▾\";}#sk-container-id-1 div.sk-estimator input.sk-toggleable__control:checked~label.sk-toggleable__label {background-color: #d4ebff;}#sk-container-id-1 div.sk-label input.sk-toggleable__control:checked~label.sk-toggleable__label {background-color: #d4ebff;}#sk-container-id-1 input.sk-hidden--visually {border: 0;clip: rect(1px 1px 1px 1px);clip: rect(1px, 1px, 1px, 1px);height: 1px;margin: -1px;overflow: hidden;padding: 0;position: absolute;width: 1px;}#sk-container-id-1 div.sk-estimator {font-family: monospace;background-color: #f0f8ff;border: 1px dotted black;border-radius: 0.25em;box-sizing: border-box;margin-bottom: 0.5em;}#sk-container-id-1 div.sk-estimator:hover {background-color: #d4ebff;}#sk-container-id-1 div.sk-parallel-item::after {content: \"\";width: 100%;border-bottom: 1px solid gray;flex-grow: 1;}#sk-container-id-1 div.sk-label:hover label.sk-toggleable__label {background-color: #d4ebff;}#sk-container-id-1 div.sk-serial::before {content: \"\";position: absolute;border-left: 1px solid gray;box-sizing: border-box;top: 0;bottom: 0;left: 50%;z-index: 0;}#sk-container-id-1 div.sk-serial {display: flex;flex-direction: column;align-items: center;background-color: white;padding-right: 0.2em;padding-left: 0.2em;position: relative;}#sk-container-id-1 div.sk-item {position: relative;z-index: 1;}#sk-container-id-1 div.sk-parallel {display: flex;align-items: stretch;justify-content: center;background-color: white;position: relative;}#sk-container-id-1 div.sk-item::before, #sk-container-id-1 div.sk-parallel-item::before {content: \"\";position: absolute;border-left: 1px solid gray;box-sizing: border-box;top: 0;bottom: 0;left: 50%;z-index: -1;}#sk-container-id-1 div.sk-parallel-item {display: flex;flex-direction: column;z-index: 1;position: relative;background-color: white;}#sk-container-id-1 div.sk-parallel-item:first-child::after {align-self: flex-end;width: 50%;}#sk-container-id-1 div.sk-parallel-item:last-child::after {align-self: flex-start;width: 50%;}#sk-container-id-1 div.sk-parallel-item:only-child::after {width: 0;}#sk-container-id-1 div.sk-dashed-wrapped {border: 1px dashed gray;margin: 0 0.4em 0.5em 0.4em;box-sizing: border-box;padding-bottom: 0.4em;background-color: white;}#sk-container-id-1 div.sk-label label {font-family: monospace;font-weight: bold;display: inline-block;line-height: 1.2em;}#sk-container-id-1 div.sk-label-container {text-align: center;}#sk-container-id-1 div.sk-container {/* jupyter's `normalize.less` sets `[hidden] { display: none; }` but bootstrap.min.css set `[hidden] { display: none !important; }` so we also need the `!important` here to be able to override the default hidden behavior on the sphinx rendered scikit-learn.org. See: https://github.com/scikit-learn/scikit-learn/issues/21755 */display: inline-block !important;position: relative;}#sk-container-id-1 div.sk-text-repr-fallback {display: none;}</style><div id=\"sk-container-id-1\" class=\"sk-top-container\"><div class=\"sk-text-repr-fallback\"><pre>LogisticRegression(class_weight=&#x27;balanced&#x27;, random_state=42)</pre><b>In a Jupyter environment, please rerun this cell to show the HTML representation or trust the notebook. <br />On GitHub, the HTML representation is unable to render, please try loading this page with nbviewer.org.</b></div><div class=\"sk-container\" hidden><div class=\"sk-item\"><div class=\"sk-estimator sk-toggleable\"><input class=\"sk-toggleable__control sk-hidden--visually\" id=\"sk-estimator-id-1\" type=\"checkbox\" checked><label for=\"sk-estimator-id-1\" class=\"sk-toggleable__label sk-toggleable__label-arrow\">LogisticRegression</label><div class=\"sk-toggleable__content\"><pre>LogisticRegression(class_weight=&#x27;balanced&#x27;, random_state=42)</pre></div></div></div></div></div>"
            ]
          },
          "metadata": {},
          "execution_count": 54
        }
      ],
      "source": [
        "# обучаем классификатор на основе логистической регрессии\n",
        "\n",
        "lr_clf = LogisticRegression(random_state=42, class_weight='balanced')\n",
        "lr_clf.fit(train_features, train_labels)"
      ]
    },
    {
      "cell_type": "code",
      "execution_count": null,
      "metadata": {
        "id": "6HPMmtkO5_0I"
      },
      "outputs": [],
      "source": [
        "import random"
      ]
    },
    {
      "cell_type": "code",
      "execution_count": null,
      "metadata": {
        "colab": {
          "base_uri": "https://localhost:8080/"
        },
        "id": "HWIYx5U15_0I",
        "outputId": "c92af428-fbe1-43c9-89da-e3cbf6b828b5"
      },
      "outputs": [
        {
          "output_type": "stream",
          "name": "stdout",
          "text": [
            "Text: В Венесуэла|Венесуэле 7 октября 2012 года проходят Президентские выборы в Венесуэле (2012)|президентские выборы, которые, по мнению аналитиков, станут самыми напряженными за всю политическую карьеру действующего лидера страны Чавес, Уго|Уго Чавеса, пробывшего у власти почти 14 лет.\n",
            "Predict label:  0\n",
            "True label:  0\n"
          ]
        }
      ],
      "source": [
        "# делаем пробное предсказание\n",
        "tweet_index = random.randint(1,8000)\n",
        "\n",
        "print('Text: ' + df_tweets['sentence'][tweet_index])\n",
        "print('Predict label: ', lr_clf.predict(features[tweet_index:tweet_index+1][:])[0])\n",
        "print('True label: ', df_tweets['label'][tweet_index])\n"
      ]
    },
    {
      "cell_type": "code",
      "execution_count": null,
      "metadata": {
        "colab": {
          "base_uri": "https://localhost:8080/"
        },
        "id": "gp1MOTKs5_0I",
        "outputId": "2c492bcc-f1ce-4505-af84-1584c8acf7a9"
      },
      "outputs": [
        {
          "output_type": "execute_result",
          "data": {
            "text/plain": [
              "0.5333333333333333"
            ]
          },
          "metadata": {},
          "execution_count": 58
        }
      ],
      "source": [
        "# оцениваем accuracy на тестовой выборке\n",
        "\n",
        "lr_clf.score(test_features, test_labels)"
      ]
    },
    {
      "cell_type": "code",
      "execution_count": null,
      "metadata": {
        "collapsed": true,
        "colab": {
          "base_uri": "https://localhost:8080/"
        },
        "id": "3yQhv3u85_0J",
        "outputId": "79741cde-b48e-4df6-f6a6-373a88a94de1"
      },
      "outputs": [
        {
          "output_type": "stream",
          "name": "stderr",
          "text": [
            "100%|██████████| 4000/4000 [00:01<00:00, 2966.93it/s]\n"
          ]
        }
      ],
      "source": [
        "d = []\n",
        "for idx, tt in enumerate(tqdm(df_tweets['sentence'].head(4000))):\n",
        "    try:\n",
        "        d.append(\n",
        "            {\n",
        "                'text': tt,\n",
        "                'predict': lr_clf.predict(features[idx:idx+1][:])[0],\n",
        "                'gtrue': df_tweets['label'][idx]\n",
        "            }\n",
        "        )\n",
        "    except:\n",
        "        pass\n",
        "    #print(max(res,key=itemgetter(1))[0])    \n",
        "df_train = pd.DataFrame(d)    \n",
        "    "
      ]
    },
    {
      "cell_type": "raw",
      "metadata": {
        "id": "QWl8FkY85_0J"
      },
      "source": [
        "df_train"
      ]
    },
    {
      "cell_type": "code",
      "execution_count": null,
      "metadata": {
        "colab": {
          "base_uri": "https://localhost:8080/"
        },
        "id": "k6nUcfTT5_0J",
        "outputId": "5c6f9cde-af18-4a15-dfd4-77d838474a67"
      },
      "outputs": [
        {
          "output_type": "execute_result",
          "data": {
            "text/plain": [
              " 0    1876\n",
              "-1    1138\n",
              " 1     986\n",
              "Name: predict, dtype: int64"
            ]
          },
          "metadata": {},
          "execution_count": 60
        }
      ],
      "source": [
        "df_train.predict.value_counts()"
      ]
    },
    {
      "cell_type": "code",
      "execution_count": null,
      "metadata": {
        "colab": {
          "base_uri": "https://localhost:8080/"
        },
        "id": "UxCJBDFe5_0J",
        "outputId": "d60288d9-010d-4c7f-95e9-910a2f701239"
      },
      "outputs": [
        {
          "output_type": "execute_result",
          "data": {
            "text/plain": [
              " 0    2867\n",
              "-1     616\n",
              " 1     517\n",
              "Name: gtrue, dtype: int64"
            ]
          },
          "metadata": {},
          "execution_count": 61
        }
      ],
      "source": [
        "df_train.gtrue.value_counts()"
      ]
    },
    {
      "cell_type": "code",
      "execution_count": null,
      "metadata": {
        "id": "mIyfxJWP5_0J"
      },
      "outputs": [],
      "source": [
        "import pandas as pd\n",
        "\n",
        "def confusion_matrix(df: pd.DataFrame, col1: str, col2: str):\n",
        "    \"\"\"\n",
        "    Given a dataframe with at least\n",
        "    two categorical columns, create a \n",
        "    confusion matrix of the count of the columns\n",
        "    cross-counts\n",
        "    \n",
        "    use like:\n",
        "    \n",
        "    >>> confusion_matrix(test_df, 'actual_label', 'predicted_label')\n",
        "    \"\"\"\n",
        "    return (\n",
        "            df\n",
        "            .groupby([col1, col2])\n",
        "            .size()\n",
        "            .unstack(fill_value=0)\n",
        "            )"
      ]
    },
    {
      "cell_type": "code",
      "execution_count": null,
      "metadata": {
        "colab": {
          "base_uri": "https://localhost:8080/",
          "height": 175
        },
        "id": "Njz91yKv5_0K",
        "outputId": "e07590d0-d045-473b-b6e0-4c030fd85af5"
      },
      "outputs": [
        {
          "output_type": "execute_result",
          "data": {
            "text/plain": [
              "gtrue     -1     0    1\n",
              "predict                \n",
              "-1       455   627   56\n",
              " 0        91  1692   93\n",
              " 1        70   548  368"
            ],
            "text/html": [
              "\n",
              "  <div id=\"df-e12f37d5-9251-4ecc-8540-2126e8f61301\">\n",
              "    <div class=\"colab-df-container\">\n",
              "      <div>\n",
              "<style scoped>\n",
              "    .dataframe tbody tr th:only-of-type {\n",
              "        vertical-align: middle;\n",
              "    }\n",
              "\n",
              "    .dataframe tbody tr th {\n",
              "        vertical-align: top;\n",
              "    }\n",
              "\n",
              "    .dataframe thead th {\n",
              "        text-align: right;\n",
              "    }\n",
              "</style>\n",
              "<table border=\"1\" class=\"dataframe\">\n",
              "  <thead>\n",
              "    <tr style=\"text-align: right;\">\n",
              "      <th>gtrue</th>\n",
              "      <th>-1</th>\n",
              "      <th>0</th>\n",
              "      <th>1</th>\n",
              "    </tr>\n",
              "    <tr>\n",
              "      <th>predict</th>\n",
              "      <th></th>\n",
              "      <th></th>\n",
              "      <th></th>\n",
              "    </tr>\n",
              "  </thead>\n",
              "  <tbody>\n",
              "    <tr>\n",
              "      <th>-1</th>\n",
              "      <td>455</td>\n",
              "      <td>627</td>\n",
              "      <td>56</td>\n",
              "    </tr>\n",
              "    <tr>\n",
              "      <th>0</th>\n",
              "      <td>91</td>\n",
              "      <td>1692</td>\n",
              "      <td>93</td>\n",
              "    </tr>\n",
              "    <tr>\n",
              "      <th>1</th>\n",
              "      <td>70</td>\n",
              "      <td>548</td>\n",
              "      <td>368</td>\n",
              "    </tr>\n",
              "  </tbody>\n",
              "</table>\n",
              "</div>\n",
              "      <button class=\"colab-df-convert\" onclick=\"convertToInteractive('df-e12f37d5-9251-4ecc-8540-2126e8f61301')\"\n",
              "              title=\"Convert this dataframe to an interactive table.\"\n",
              "              style=\"display:none;\">\n",
              "        \n",
              "  <svg xmlns=\"http://www.w3.org/2000/svg\" height=\"24px\"viewBox=\"0 0 24 24\"\n",
              "       width=\"24px\">\n",
              "    <path d=\"M0 0h24v24H0V0z\" fill=\"none\"/>\n",
              "    <path d=\"M18.56 5.44l.94 2.06.94-2.06 2.06-.94-2.06-.94-.94-2.06-.94 2.06-2.06.94zm-11 1L8.5 8.5l.94-2.06 2.06-.94-2.06-.94L8.5 2.5l-.94 2.06-2.06.94zm10 10l.94 2.06.94-2.06 2.06-.94-2.06-.94-.94-2.06-.94 2.06-2.06.94z\"/><path d=\"M17.41 7.96l-1.37-1.37c-.4-.4-.92-.59-1.43-.59-.52 0-1.04.2-1.43.59L10.3 9.45l-7.72 7.72c-.78.78-.78 2.05 0 2.83L4 21.41c.39.39.9.59 1.41.59.51 0 1.02-.2 1.41-.59l7.78-7.78 2.81-2.81c.8-.78.8-2.07 0-2.86zM5.41 20L4 18.59l7.72-7.72 1.47 1.35L5.41 20z\"/>\n",
              "  </svg>\n",
              "      </button>\n",
              "      \n",
              "  <style>\n",
              "    .colab-df-container {\n",
              "      display:flex;\n",
              "      flex-wrap:wrap;\n",
              "      gap: 12px;\n",
              "    }\n",
              "\n",
              "    .colab-df-convert {\n",
              "      background-color: #E8F0FE;\n",
              "      border: none;\n",
              "      border-radius: 50%;\n",
              "      cursor: pointer;\n",
              "      display: none;\n",
              "      fill: #1967D2;\n",
              "      height: 32px;\n",
              "      padding: 0 0 0 0;\n",
              "      width: 32px;\n",
              "    }\n",
              "\n",
              "    .colab-df-convert:hover {\n",
              "      background-color: #E2EBFA;\n",
              "      box-shadow: 0px 1px 2px rgba(60, 64, 67, 0.3), 0px 1px 3px 1px rgba(60, 64, 67, 0.15);\n",
              "      fill: #174EA6;\n",
              "    }\n",
              "\n",
              "    [theme=dark] .colab-df-convert {\n",
              "      background-color: #3B4455;\n",
              "      fill: #D2E3FC;\n",
              "    }\n",
              "\n",
              "    [theme=dark] .colab-df-convert:hover {\n",
              "      background-color: #434B5C;\n",
              "      box-shadow: 0px 1px 3px 1px rgba(0, 0, 0, 0.15);\n",
              "      filter: drop-shadow(0px 1px 2px rgba(0, 0, 0, 0.3));\n",
              "      fill: #FFFFFF;\n",
              "    }\n",
              "  </style>\n",
              "\n",
              "      <script>\n",
              "        const buttonEl =\n",
              "          document.querySelector('#df-e12f37d5-9251-4ecc-8540-2126e8f61301 button.colab-df-convert');\n",
              "        buttonEl.style.display =\n",
              "          google.colab.kernel.accessAllowed ? 'block' : 'none';\n",
              "\n",
              "        async function convertToInteractive(key) {\n",
              "          const element = document.querySelector('#df-e12f37d5-9251-4ecc-8540-2126e8f61301');\n",
              "          const dataTable =\n",
              "            await google.colab.kernel.invokeFunction('convertToInteractive',\n",
              "                                                     [key], {});\n",
              "          if (!dataTable) return;\n",
              "\n",
              "          const docLinkHtml = 'Like what you see? Visit the ' +\n",
              "            '<a target=\"_blank\" href=https://colab.research.google.com/notebooks/data_table.ipynb>data table notebook</a>'\n",
              "            + ' to learn more about interactive tables.';\n",
              "          element.innerHTML = '';\n",
              "          dataTable['output_type'] = 'display_data';\n",
              "          await google.colab.output.renderOutput(dataTable, element);\n",
              "          const docLink = document.createElement('div');\n",
              "          docLink.innerHTML = docLinkHtml;\n",
              "          element.appendChild(docLink);\n",
              "        }\n",
              "      </script>\n",
              "    </div>\n",
              "  </div>\n",
              "  "
            ]
          },
          "metadata": {},
          "execution_count": 63
        }
      ],
      "source": [
        "confusion_matrix(df_train,'predict','gtrue')"
      ]
    },
    {
      "cell_type": "code",
      "execution_count": null,
      "metadata": {
        "id": "ipbPg7RD5_0K"
      },
      "outputs": [],
      "source": [
        "final_data = pd.read_csv('fin_data2.csv', sep='\\t')"
      ]
    },
    {
      "cell_type": "code",
      "source": [
        "final_data.head()"
      ],
      "metadata": {
        "colab": {
          "base_uri": "https://localhost:8080/",
          "height": 617
        },
        "id": "gr7rOk3MNDBL",
        "outputId": "09ea338c-e33e-4f8f-dd4e-b4f74a25aded"
      },
      "execution_count": null,
      "outputs": [
        {
          "output_type": "execute_result",
          "data": {
            "text/plain": [
              "                                            sentence  \\\n",
              "0  Абдул Реза Шайхулислами выразил готовность Ира...   \n",
              "1  Абдул Реза Шайхулислами выразил готовность Ира...   \n",
              "2  Абдул Реза Шайхулислами выразил готовность Ира...   \n",
              "3  В своем выступлении Абдул Реза Шайхулислами от...   \n",
              "4  В свою очередь, Зорар Ахмад Мокбел заявил о то...   \n",
              "\n",
              "                      entity    entity_tag  entity_pos_start_rel  \\\n",
              "0    Абдул Реза Шайхулислами        PERSON                     0   \n",
              "1                   афганцев   NATIONALITY                   157   \n",
              "2  правительству Афганистана  ORGANIZATION                    68   \n",
              "3    Абдул Реза Шайхулислами        PERSON                    20   \n",
              "4                      Ирана       COUNTRY                    86   \n",
              "\n",
              "   entity_pos_end_rel  \n",
              "0                  23  \n",
              "1                 165  \n",
              "2                  93  \n",
              "3                  43  \n",
              "4                  91  "
            ],
            "text/html": [
              "\n",
              "  <div id=\"df-3625f65a-97b0-4c7e-9ecb-c38bb58f1302\">\n",
              "    <div class=\"colab-df-container\">\n",
              "      <div>\n",
              "<style scoped>\n",
              "    .dataframe tbody tr th:only-of-type {\n",
              "        vertical-align: middle;\n",
              "    }\n",
              "\n",
              "    .dataframe tbody tr th {\n",
              "        vertical-align: top;\n",
              "    }\n",
              "\n",
              "    .dataframe thead th {\n",
              "        text-align: right;\n",
              "    }\n",
              "</style>\n",
              "<table border=\"1\" class=\"dataframe\">\n",
              "  <thead>\n",
              "    <tr style=\"text-align: right;\">\n",
              "      <th></th>\n",
              "      <th>sentence</th>\n",
              "      <th>entity</th>\n",
              "      <th>entity_tag</th>\n",
              "      <th>entity_pos_start_rel</th>\n",
              "      <th>entity_pos_end_rel</th>\n",
              "    </tr>\n",
              "  </thead>\n",
              "  <tbody>\n",
              "    <tr>\n",
              "      <th>0</th>\n",
              "      <td>Абдул Реза Шайхулислами выразил готовность Ира...</td>\n",
              "      <td>Абдул Реза Шайхулислами</td>\n",
              "      <td>PERSON</td>\n",
              "      <td>0</td>\n",
              "      <td>23</td>\n",
              "    </tr>\n",
              "    <tr>\n",
              "      <th>1</th>\n",
              "      <td>Абдул Реза Шайхулислами выразил готовность Ира...</td>\n",
              "      <td>афганцев</td>\n",
              "      <td>NATIONALITY</td>\n",
              "      <td>157</td>\n",
              "      <td>165</td>\n",
              "    </tr>\n",
              "    <tr>\n",
              "      <th>2</th>\n",
              "      <td>Абдул Реза Шайхулислами выразил готовность Ира...</td>\n",
              "      <td>правительству Афганистана</td>\n",
              "      <td>ORGANIZATION</td>\n",
              "      <td>68</td>\n",
              "      <td>93</td>\n",
              "    </tr>\n",
              "    <tr>\n",
              "      <th>3</th>\n",
              "      <td>В своем выступлении Абдул Реза Шайхулислами от...</td>\n",
              "      <td>Абдул Реза Шайхулислами</td>\n",
              "      <td>PERSON</td>\n",
              "      <td>20</td>\n",
              "      <td>43</td>\n",
              "    </tr>\n",
              "    <tr>\n",
              "      <th>4</th>\n",
              "      <td>В свою очередь, Зорар Ахмад Мокбел заявил о то...</td>\n",
              "      <td>Ирана</td>\n",
              "      <td>COUNTRY</td>\n",
              "      <td>86</td>\n",
              "      <td>91</td>\n",
              "    </tr>\n",
              "  </tbody>\n",
              "</table>\n",
              "</div>\n",
              "      <button class=\"colab-df-convert\" onclick=\"convertToInteractive('df-3625f65a-97b0-4c7e-9ecb-c38bb58f1302')\"\n",
              "              title=\"Convert this dataframe to an interactive table.\"\n",
              "              style=\"display:none;\">\n",
              "        \n",
              "  <svg xmlns=\"http://www.w3.org/2000/svg\" height=\"24px\"viewBox=\"0 0 24 24\"\n",
              "       width=\"24px\">\n",
              "    <path d=\"M0 0h24v24H0V0z\" fill=\"none\"/>\n",
              "    <path d=\"M18.56 5.44l.94 2.06.94-2.06 2.06-.94-2.06-.94-.94-2.06-.94 2.06-2.06.94zm-11 1L8.5 8.5l.94-2.06 2.06-.94-2.06-.94L8.5 2.5l-.94 2.06-2.06.94zm10 10l.94 2.06.94-2.06 2.06-.94-2.06-.94-.94-2.06-.94 2.06-2.06.94z\"/><path d=\"M17.41 7.96l-1.37-1.37c-.4-.4-.92-.59-1.43-.59-.52 0-1.04.2-1.43.59L10.3 9.45l-7.72 7.72c-.78.78-.78 2.05 0 2.83L4 21.41c.39.39.9.59 1.41.59.51 0 1.02-.2 1.41-.59l7.78-7.78 2.81-2.81c.8-.78.8-2.07 0-2.86zM5.41 20L4 18.59l7.72-7.72 1.47 1.35L5.41 20z\"/>\n",
              "  </svg>\n",
              "      </button>\n",
              "      \n",
              "  <style>\n",
              "    .colab-df-container {\n",
              "      display:flex;\n",
              "      flex-wrap:wrap;\n",
              "      gap: 12px;\n",
              "    }\n",
              "\n",
              "    .colab-df-convert {\n",
              "      background-color: #E8F0FE;\n",
              "      border: none;\n",
              "      border-radius: 50%;\n",
              "      cursor: pointer;\n",
              "      display: none;\n",
              "      fill: #1967D2;\n",
              "      height: 32px;\n",
              "      padding: 0 0 0 0;\n",
              "      width: 32px;\n",
              "    }\n",
              "\n",
              "    .colab-df-convert:hover {\n",
              "      background-color: #E2EBFA;\n",
              "      box-shadow: 0px 1px 2px rgba(60, 64, 67, 0.3), 0px 1px 3px 1px rgba(60, 64, 67, 0.15);\n",
              "      fill: #174EA6;\n",
              "    }\n",
              "\n",
              "    [theme=dark] .colab-df-convert {\n",
              "      background-color: #3B4455;\n",
              "      fill: #D2E3FC;\n",
              "    }\n",
              "\n",
              "    [theme=dark] .colab-df-convert:hover {\n",
              "      background-color: #434B5C;\n",
              "      box-shadow: 0px 1px 3px 1px rgba(0, 0, 0, 0.15);\n",
              "      filter: drop-shadow(0px 1px 2px rgba(0, 0, 0, 0.3));\n",
              "      fill: #FFFFFF;\n",
              "    }\n",
              "  </style>\n",
              "\n",
              "      <script>\n",
              "        const buttonEl =\n",
              "          document.querySelector('#df-3625f65a-97b0-4c7e-9ecb-c38bb58f1302 button.colab-df-convert');\n",
              "        buttonEl.style.display =\n",
              "          google.colab.kernel.accessAllowed ? 'block' : 'none';\n",
              "\n",
              "        async function convertToInteractive(key) {\n",
              "          const element = document.querySelector('#df-3625f65a-97b0-4c7e-9ecb-c38bb58f1302');\n",
              "          const dataTable =\n",
              "            await google.colab.kernel.invokeFunction('convertToInteractive',\n",
              "                                                     [key], {});\n",
              "          if (!dataTable) return;\n",
              "\n",
              "          const docLinkHtml = 'Like what you see? Visit the ' +\n",
              "            '<a target=\"_blank\" href=https://colab.research.google.com/notebooks/data_table.ipynb>data table notebook</a>'\n",
              "            + ' to learn more about interactive tables.';\n",
              "          element.innerHTML = '';\n",
              "          dataTable['output_type'] = 'display_data';\n",
              "          await google.colab.output.renderOutput(dataTable, element);\n",
              "          const docLink = document.createElement('div');\n",
              "          docLink.innerHTML = docLinkHtml;\n",
              "          element.appendChild(docLink);\n",
              "        }\n",
              "      </script>\n",
              "    </div>\n",
              "  </div>\n",
              "  "
            ]
          },
          "metadata": {},
          "execution_count": 104
        }
      ]
    },
    {
      "cell_type": "code",
      "source": [
        "final_data.shape"
      ],
      "metadata": {
        "colab": {
          "base_uri": "https://localhost:8080/"
        },
        "id": "rA2uVxAAORkj",
        "outputId": "517f1bbd-830f-44fd-d588-04c4aabe7c36"
      },
      "execution_count": null,
      "outputs": [
        {
          "output_type": "execute_result",
          "data": {
            "text/plain": [
              "(1947, 5)"
            ]
          },
          "metadata": {},
          "execution_count": 105
        }
      ]
    },
    {
      "cell_type": "code",
      "source": [
        "final_data.tail()"
      ],
      "metadata": {
        "colab": {
          "base_uri": "https://localhost:8080/",
          "height": 548
        },
        "id": "hlytR4JoTr1n",
        "outputId": "7c2ffa9f-2de9-47e2-9ff9-f6065450fd1c"
      },
      "execution_count": null,
      "outputs": [
        {
          "output_type": "execute_result",
          "data": {
            "text/plain": [
              "                                               sentence  \\\n",
              "1942  От дальнейших комментариев Брукер воздержалась...   \n",
              "1943  По данным Associated Press, в первый день 2011...   \n",
              "1944  По данным Associated Press, в первый день 2011...   \n",
              "1945  По данным на конец 2010 года, напоминает AP, у...   \n",
              "1946  Служба техподдержки Windows Live в ответ на по...   \n",
              "\n",
              "                                entity    entity_tag  entity_pos_start_rel  \\\n",
              "1942                            Брукер        PERSON                    27   \n",
              "1943                  Associated Press  ORGANIZATION                    10   \n",
              "1944                         Microsoft  ORGANIZATION                    62   \n",
              "1945                                AP  ORGANIZATION                    41   \n",
              "1946  Служба техподдержки Windows Live  ORGANIZATION                     0   \n",
              "\n",
              "      entity_pos_end_rel  \n",
              "1942                  33  \n",
              "1943                  26  \n",
              "1944                  71  \n",
              "1945                  43  \n",
              "1946                  32  "
            ],
            "text/html": [
              "\n",
              "  <div id=\"df-3d44afc6-31f1-4f0b-8530-52a34e8d73e6\">\n",
              "    <div class=\"colab-df-container\">\n",
              "      <div>\n",
              "<style scoped>\n",
              "    .dataframe tbody tr th:only-of-type {\n",
              "        vertical-align: middle;\n",
              "    }\n",
              "\n",
              "    .dataframe tbody tr th {\n",
              "        vertical-align: top;\n",
              "    }\n",
              "\n",
              "    .dataframe thead th {\n",
              "        text-align: right;\n",
              "    }\n",
              "</style>\n",
              "<table border=\"1\" class=\"dataframe\">\n",
              "  <thead>\n",
              "    <tr style=\"text-align: right;\">\n",
              "      <th></th>\n",
              "      <th>sentence</th>\n",
              "      <th>entity</th>\n",
              "      <th>entity_tag</th>\n",
              "      <th>entity_pos_start_rel</th>\n",
              "      <th>entity_pos_end_rel</th>\n",
              "    </tr>\n",
              "  </thead>\n",
              "  <tbody>\n",
              "    <tr>\n",
              "      <th>1942</th>\n",
              "      <td>От дальнейших комментариев Брукер воздержалась...</td>\n",
              "      <td>Брукер</td>\n",
              "      <td>PERSON</td>\n",
              "      <td>27</td>\n",
              "      <td>33</td>\n",
              "    </tr>\n",
              "    <tr>\n",
              "      <th>1943</th>\n",
              "      <td>По данным Associated Press, в первый день 2011...</td>\n",
              "      <td>Associated Press</td>\n",
              "      <td>ORGANIZATION</td>\n",
              "      <td>10</td>\n",
              "      <td>26</td>\n",
              "    </tr>\n",
              "    <tr>\n",
              "      <th>1944</th>\n",
              "      <td>По данным Associated Press, в первый день 2011...</td>\n",
              "      <td>Microsoft</td>\n",
              "      <td>ORGANIZATION</td>\n",
              "      <td>62</td>\n",
              "      <td>71</td>\n",
              "    </tr>\n",
              "    <tr>\n",
              "      <th>1945</th>\n",
              "      <td>По данным на конец 2010 года, напоминает AP, у...</td>\n",
              "      <td>AP</td>\n",
              "      <td>ORGANIZATION</td>\n",
              "      <td>41</td>\n",
              "      <td>43</td>\n",
              "    </tr>\n",
              "    <tr>\n",
              "      <th>1946</th>\n",
              "      <td>Служба техподдержки Windows Live в ответ на по...</td>\n",
              "      <td>Служба техподдержки Windows Live</td>\n",
              "      <td>ORGANIZATION</td>\n",
              "      <td>0</td>\n",
              "      <td>32</td>\n",
              "    </tr>\n",
              "  </tbody>\n",
              "</table>\n",
              "</div>\n",
              "      <button class=\"colab-df-convert\" onclick=\"convertToInteractive('df-3d44afc6-31f1-4f0b-8530-52a34e8d73e6')\"\n",
              "              title=\"Convert this dataframe to an interactive table.\"\n",
              "              style=\"display:none;\">\n",
              "        \n",
              "  <svg xmlns=\"http://www.w3.org/2000/svg\" height=\"24px\"viewBox=\"0 0 24 24\"\n",
              "       width=\"24px\">\n",
              "    <path d=\"M0 0h24v24H0V0z\" fill=\"none\"/>\n",
              "    <path d=\"M18.56 5.44l.94 2.06.94-2.06 2.06-.94-2.06-.94-.94-2.06-.94 2.06-2.06.94zm-11 1L8.5 8.5l.94-2.06 2.06-.94-2.06-.94L8.5 2.5l-.94 2.06-2.06.94zm10 10l.94 2.06.94-2.06 2.06-.94-2.06-.94-.94-2.06-.94 2.06-2.06.94z\"/><path d=\"M17.41 7.96l-1.37-1.37c-.4-.4-.92-.59-1.43-.59-.52 0-1.04.2-1.43.59L10.3 9.45l-7.72 7.72c-.78.78-.78 2.05 0 2.83L4 21.41c.39.39.9.59 1.41.59.51 0 1.02-.2 1.41-.59l7.78-7.78 2.81-2.81c.8-.78.8-2.07 0-2.86zM5.41 20L4 18.59l7.72-7.72 1.47 1.35L5.41 20z\"/>\n",
              "  </svg>\n",
              "      </button>\n",
              "      \n",
              "  <style>\n",
              "    .colab-df-container {\n",
              "      display:flex;\n",
              "      flex-wrap:wrap;\n",
              "      gap: 12px;\n",
              "    }\n",
              "\n",
              "    .colab-df-convert {\n",
              "      background-color: #E8F0FE;\n",
              "      border: none;\n",
              "      border-radius: 50%;\n",
              "      cursor: pointer;\n",
              "      display: none;\n",
              "      fill: #1967D2;\n",
              "      height: 32px;\n",
              "      padding: 0 0 0 0;\n",
              "      width: 32px;\n",
              "    }\n",
              "\n",
              "    .colab-df-convert:hover {\n",
              "      background-color: #E2EBFA;\n",
              "      box-shadow: 0px 1px 2px rgba(60, 64, 67, 0.3), 0px 1px 3px 1px rgba(60, 64, 67, 0.15);\n",
              "      fill: #174EA6;\n",
              "    }\n",
              "\n",
              "    [theme=dark] .colab-df-convert {\n",
              "      background-color: #3B4455;\n",
              "      fill: #D2E3FC;\n",
              "    }\n",
              "\n",
              "    [theme=dark] .colab-df-convert:hover {\n",
              "      background-color: #434B5C;\n",
              "      box-shadow: 0px 1px 3px 1px rgba(0, 0, 0, 0.15);\n",
              "      filter: drop-shadow(0px 1px 2px rgba(0, 0, 0, 0.3));\n",
              "      fill: #FFFFFF;\n",
              "    }\n",
              "  </style>\n",
              "\n",
              "      <script>\n",
              "        const buttonEl =\n",
              "          document.querySelector('#df-3d44afc6-31f1-4f0b-8530-52a34e8d73e6 button.colab-df-convert');\n",
              "        buttonEl.style.display =\n",
              "          google.colab.kernel.accessAllowed ? 'block' : 'none';\n",
              "\n",
              "        async function convertToInteractive(key) {\n",
              "          const element = document.querySelector('#df-3d44afc6-31f1-4f0b-8530-52a34e8d73e6');\n",
              "          const dataTable =\n",
              "            await google.colab.kernel.invokeFunction('convertToInteractive',\n",
              "                                                     [key], {});\n",
              "          if (!dataTable) return;\n",
              "\n",
              "          const docLinkHtml = 'Like what you see? Visit the ' +\n",
              "            '<a target=\"_blank\" href=https://colab.research.google.com/notebooks/data_table.ipynb>data table notebook</a>'\n",
              "            + ' to learn more about interactive tables.';\n",
              "          element.innerHTML = '';\n",
              "          dataTable['output_type'] = 'display_data';\n",
              "          await google.colab.output.renderOutput(dataTable, element);\n",
              "          const docLink = document.createElement('div');\n",
              "          docLink.innerHTML = docLinkHtml;\n",
              "          element.appendChild(docLink);\n",
              "        }\n",
              "      </script>\n",
              "    </div>\n",
              "  </div>\n",
              "  "
            ]
          },
          "metadata": {},
          "execution_count": 116
        }
      ]
    },
    {
      "cell_type": "code",
      "source": [
        "tokenized_fin = final_data['sentence'].astype(str).str[:512].apply((lambda x: tokenizer.encode(x, add_special_tokens=True)) )\n",
        "padded_fin = np.array([i + [0]*(max_len-len(i)) for i in tokenized_fin.values])"
      ],
      "metadata": {
        "id": "Z1hwxvIXNROh"
      },
      "execution_count": null,
      "outputs": []
    },
    {
      "cell_type": "code",
      "source": [
        "attention_mask_f = np.where(padded_fin != 0, 1, 0)\n",
        "attention_mask_f.shape"
      ],
      "metadata": {
        "colab": {
          "base_uri": "https://localhost:8080/"
        },
        "id": "lS1B1zdLOGE-",
        "outputId": "6c4c5dfe-6d31-4024-c90d-1b7e5d653fa6"
      },
      "execution_count": null,
      "outputs": [
        {
          "output_type": "execute_result",
          "data": {
            "text/plain": [
              "(1947, 172)"
            ]
          },
          "metadata": {},
          "execution_count": 107
        }
      ]
    },
    {
      "cell_type": "code",
      "source": [
        "# а теперь сформируем вектора текстов с помощью модели RuBERT\n",
        "\n",
        "# это не быстрый процесс, импортируем инструмент для визуализации времени обработки в цикле\n",
        "from tqdm import tqdm\n",
        "\n",
        "# для того, чтобы модель отработала в условиях ограниченных ресурсов - оперативной памяти, мы разделяем входной датасет на батчи.\n",
        "# при батче в 100 твитов потребление оперативной памяти укладывается в 1Гб\n",
        "batch_size = 59\n",
        "\n",
        "# Делаем пустой список для хранения эмбеддингов (векторов) твитов\n",
        "embeddings_fin = []\n",
        "\n",
        "for i in tqdm(range(padded_fin.shape[0] // batch_size)):\n",
        "        # преобразуем батч с токенизированными твитами в тензор \n",
        "        # по сути тензор - это многомерный массив, который может быть обработан нейронной сетью\n",
        "        input_ids_f = torch.LongTensor(padded_fin[batch_size*i:batch_size*(i+1)]).to('cuda') \n",
        "        \n",
        "        # создаем тензор и для подготовленной маски\n",
        "        attention_mask_batch_f = torch.LongTensor(attention_mask[batch_size*i:batch_size*(i+1)]).to('cuda')\n",
        "        \n",
        "        # передаем в модель BERT тензор из твитов и маску - на выходе получаем эмбеддинги - вектор текста твита\n",
        "        # torch.no_grad() - для ускорения инференса модели отключим рассчет градиентов\n",
        "        with torch.no_grad():\n",
        "               last_hidden_states_f = model_rubert(input_ids_f, attention_mask=attention_mask_batch_f)\n",
        "        \n",
        "        # в итоге собираем все эмбеддинги твитов в features\n",
        "        embeddings_fin.append(last_hidden_states_f[0][:,0,:].cpu().numpy())\n"
      ],
      "metadata": {
        "colab": {
          "base_uri": "https://localhost:8080/"
        },
        "id": "wzHlhiqFNiBE",
        "outputId": "9067c85a-e2b3-45a4-d872-d3b0c2594b13"
      },
      "execution_count": null,
      "outputs": [
        {
          "output_type": "stream",
          "name": "stderr",
          "text": [
            "100%|██████████| 33/33 [00:16<00:00,  2.02it/s]\n"
          ]
        }
      ]
    },
    {
      "cell_type": "code",
      "source": [
        "features_fin = np.concatenate(embeddings_fin)"
      ],
      "metadata": {
        "id": "od5aU9XuN2iQ"
      },
      "execution_count": null,
      "outputs": []
    },
    {
      "cell_type": "code",
      "source": [
        "predictions_lr_clf = lr_clf.predict(features_fin)\n",
        "predictions_model = model.predict(features_fin)"
      ],
      "metadata": {
        "id": "x0tYAACtM204"
      },
      "execution_count": null,
      "outputs": []
    },
    {
      "cell_type": "code",
      "source": [
        "print(predictions_model)"
      ],
      "metadata": {
        "colab": {
          "base_uri": "https://localhost:8080/"
        },
        "id": "9i-Vp1TMNFpR",
        "outputId": "2c719758-8212-415e-a65e-9a01c786db3b"
      },
      "execution_count": null,
      "outputs": [
        {
          "output_type": "stream",
          "name": "stdout",
          "text": [
            "[[0]\n",
            " [0]\n",
            " [0]\n",
            " ...\n",
            " [0]\n",
            " [0]\n",
            " [0]]\n"
          ]
        }
      ]
    },
    {
      "cell_type": "code",
      "source": [
        "np.unique(predictions_lr_clf)"
      ],
      "metadata": {
        "colab": {
          "base_uri": "https://localhost:8080/"
        },
        "id": "TzduxBo9PfnR",
        "outputId": "04f272b4-a1ad-4fcc-dcf1-1ae85aab708a"
      },
      "execution_count": null,
      "outputs": [
        {
          "output_type": "execute_result",
          "data": {
            "text/plain": [
              "array([-1,  0,  1])"
            ]
          },
          "metadata": {},
          "execution_count": 112
        }
      ]
    },
    {
      "cell_type": "code",
      "source": [
        "pd.DataFrame(predictions_model).to_csv('catboost_rubert.csv')"
      ],
      "metadata": {
        "id": "TfghyXslPE5j"
      },
      "execution_count": null,
      "outputs": []
    },
    {
      "cell_type": "code",
      "source": [
        "lr_clf_pred = pd.DataFrame(predictions_lr_clf)"
      ],
      "metadata": {
        "id": "qTAxAGCBPQBu"
      },
      "execution_count": null,
      "outputs": []
    },
    {
      "cell_type": "code",
      "source": [
        "lr_clf_pred.head()"
      ],
      "metadata": {
        "colab": {
          "base_uri": "https://localhost:8080/",
          "height": 206
        },
        "id": "DDF06cD0P3IV",
        "outputId": "3af9bca8-66f8-4de2-f076-be49a7fcdff0"
      },
      "execution_count": null,
      "outputs": [
        {
          "output_type": "execute_result",
          "data": {
            "text/plain": [
              "   0\n",
              "0 -1\n",
              "1  0\n",
              "2 -1\n",
              "3  0\n",
              "4  0"
            ],
            "text/html": [
              "\n",
              "  <div id=\"df-ff2f29be-9da0-418c-8b8d-787f494acaa9\">\n",
              "    <div class=\"colab-df-container\">\n",
              "      <div>\n",
              "<style scoped>\n",
              "    .dataframe tbody tr th:only-of-type {\n",
              "        vertical-align: middle;\n",
              "    }\n",
              "\n",
              "    .dataframe tbody tr th {\n",
              "        vertical-align: top;\n",
              "    }\n",
              "\n",
              "    .dataframe thead th {\n",
              "        text-align: right;\n",
              "    }\n",
              "</style>\n",
              "<table border=\"1\" class=\"dataframe\">\n",
              "  <thead>\n",
              "    <tr style=\"text-align: right;\">\n",
              "      <th></th>\n",
              "      <th>0</th>\n",
              "    </tr>\n",
              "  </thead>\n",
              "  <tbody>\n",
              "    <tr>\n",
              "      <th>0</th>\n",
              "      <td>-1</td>\n",
              "    </tr>\n",
              "    <tr>\n",
              "      <th>1</th>\n",
              "      <td>0</td>\n",
              "    </tr>\n",
              "    <tr>\n",
              "      <th>2</th>\n",
              "      <td>-1</td>\n",
              "    </tr>\n",
              "    <tr>\n",
              "      <th>3</th>\n",
              "      <td>0</td>\n",
              "    </tr>\n",
              "    <tr>\n",
              "      <th>4</th>\n",
              "      <td>0</td>\n",
              "    </tr>\n",
              "  </tbody>\n",
              "</table>\n",
              "</div>\n",
              "      <button class=\"colab-df-convert\" onclick=\"convertToInteractive('df-ff2f29be-9da0-418c-8b8d-787f494acaa9')\"\n",
              "              title=\"Convert this dataframe to an interactive table.\"\n",
              "              style=\"display:none;\">\n",
              "        \n",
              "  <svg xmlns=\"http://www.w3.org/2000/svg\" height=\"24px\"viewBox=\"0 0 24 24\"\n",
              "       width=\"24px\">\n",
              "    <path d=\"M0 0h24v24H0V0z\" fill=\"none\"/>\n",
              "    <path d=\"M18.56 5.44l.94 2.06.94-2.06 2.06-.94-2.06-.94-.94-2.06-.94 2.06-2.06.94zm-11 1L8.5 8.5l.94-2.06 2.06-.94-2.06-.94L8.5 2.5l-.94 2.06-2.06.94zm10 10l.94 2.06.94-2.06 2.06-.94-2.06-.94-.94-2.06-.94 2.06-2.06.94z\"/><path d=\"M17.41 7.96l-1.37-1.37c-.4-.4-.92-.59-1.43-.59-.52 0-1.04.2-1.43.59L10.3 9.45l-7.72 7.72c-.78.78-.78 2.05 0 2.83L4 21.41c.39.39.9.59 1.41.59.51 0 1.02-.2 1.41-.59l7.78-7.78 2.81-2.81c.8-.78.8-2.07 0-2.86zM5.41 20L4 18.59l7.72-7.72 1.47 1.35L5.41 20z\"/>\n",
              "  </svg>\n",
              "      </button>\n",
              "      \n",
              "  <style>\n",
              "    .colab-df-container {\n",
              "      display:flex;\n",
              "      flex-wrap:wrap;\n",
              "      gap: 12px;\n",
              "    }\n",
              "\n",
              "    .colab-df-convert {\n",
              "      background-color: #E8F0FE;\n",
              "      border: none;\n",
              "      border-radius: 50%;\n",
              "      cursor: pointer;\n",
              "      display: none;\n",
              "      fill: #1967D2;\n",
              "      height: 32px;\n",
              "      padding: 0 0 0 0;\n",
              "      width: 32px;\n",
              "    }\n",
              "\n",
              "    .colab-df-convert:hover {\n",
              "      background-color: #E2EBFA;\n",
              "      box-shadow: 0px 1px 2px rgba(60, 64, 67, 0.3), 0px 1px 3px 1px rgba(60, 64, 67, 0.15);\n",
              "      fill: #174EA6;\n",
              "    }\n",
              "\n",
              "    [theme=dark] .colab-df-convert {\n",
              "      background-color: #3B4455;\n",
              "      fill: #D2E3FC;\n",
              "    }\n",
              "\n",
              "    [theme=dark] .colab-df-convert:hover {\n",
              "      background-color: #434B5C;\n",
              "      box-shadow: 0px 1px 3px 1px rgba(0, 0, 0, 0.15);\n",
              "      filter: drop-shadow(0px 1px 2px rgba(0, 0, 0, 0.3));\n",
              "      fill: #FFFFFF;\n",
              "    }\n",
              "  </style>\n",
              "\n",
              "      <script>\n",
              "        const buttonEl =\n",
              "          document.querySelector('#df-ff2f29be-9da0-418c-8b8d-787f494acaa9 button.colab-df-convert');\n",
              "        buttonEl.style.display =\n",
              "          google.colab.kernel.accessAllowed ? 'block' : 'none';\n",
              "\n",
              "        async function convertToInteractive(key) {\n",
              "          const element = document.querySelector('#df-ff2f29be-9da0-418c-8b8d-787f494acaa9');\n",
              "          const dataTable =\n",
              "            await google.colab.kernel.invokeFunction('convertToInteractive',\n",
              "                                                     [key], {});\n",
              "          if (!dataTable) return;\n",
              "\n",
              "          const docLinkHtml = 'Like what you see? Visit the ' +\n",
              "            '<a target=\"_blank\" href=https://colab.research.google.com/notebooks/data_table.ipynb>data table notebook</a>'\n",
              "            + ' to learn more about interactive tables.';\n",
              "          element.innerHTML = '';\n",
              "          dataTable['output_type'] = 'display_data';\n",
              "          await google.colab.output.renderOutput(dataTable, element);\n",
              "          const docLink = document.createElement('div');\n",
              "          docLink.innerHTML = docLinkHtml;\n",
              "          element.appendChild(docLink);\n",
              "        }\n",
              "      </script>\n",
              "    </div>\n",
              "  </div>\n",
              "  "
            ]
          },
          "metadata": {},
          "execution_count": 115
        }
      ]
    },
    {
      "cell_type": "code",
      "source": [
        "lr_clf_pred.rename(columns={0: \"ans\"})"
      ],
      "metadata": {
        "colab": {
          "base_uri": "https://localhost:8080/",
          "height": 423
        },
        "id": "Pj_bqyM_P44m",
        "outputId": "54147139-9d76-4415-fe85-a7e79f0cff2e"
      },
      "execution_count": null,
      "outputs": [
        {
          "output_type": "execute_result",
          "data": {
            "text/plain": [
              "      ans\n",
              "0      -1\n",
              "1       0\n",
              "2      -1\n",
              "3       0\n",
              "4       0\n",
              "...   ...\n",
              "1942    0\n",
              "1943    0\n",
              "1944   -1\n",
              "1945    0\n",
              "1946    0\n",
              "\n",
              "[1947 rows x 1 columns]"
            ],
            "text/html": [
              "\n",
              "  <div id=\"df-076a8485-a997-4436-9e3a-7ace41095b58\">\n",
              "    <div class=\"colab-df-container\">\n",
              "      <div>\n",
              "<style scoped>\n",
              "    .dataframe tbody tr th:only-of-type {\n",
              "        vertical-align: middle;\n",
              "    }\n",
              "\n",
              "    .dataframe tbody tr th {\n",
              "        vertical-align: top;\n",
              "    }\n",
              "\n",
              "    .dataframe thead th {\n",
              "        text-align: right;\n",
              "    }\n",
              "</style>\n",
              "<table border=\"1\" class=\"dataframe\">\n",
              "  <thead>\n",
              "    <tr style=\"text-align: right;\">\n",
              "      <th></th>\n",
              "      <th>ans</th>\n",
              "    </tr>\n",
              "  </thead>\n",
              "  <tbody>\n",
              "    <tr>\n",
              "      <th>0</th>\n",
              "      <td>-1</td>\n",
              "    </tr>\n",
              "    <tr>\n",
              "      <th>1</th>\n",
              "      <td>0</td>\n",
              "    </tr>\n",
              "    <tr>\n",
              "      <th>2</th>\n",
              "      <td>-1</td>\n",
              "    </tr>\n",
              "    <tr>\n",
              "      <th>3</th>\n",
              "      <td>0</td>\n",
              "    </tr>\n",
              "    <tr>\n",
              "      <th>4</th>\n",
              "      <td>0</td>\n",
              "    </tr>\n",
              "    <tr>\n",
              "      <th>...</th>\n",
              "      <td>...</td>\n",
              "    </tr>\n",
              "    <tr>\n",
              "      <th>1942</th>\n",
              "      <td>0</td>\n",
              "    </tr>\n",
              "    <tr>\n",
              "      <th>1943</th>\n",
              "      <td>0</td>\n",
              "    </tr>\n",
              "    <tr>\n",
              "      <th>1944</th>\n",
              "      <td>-1</td>\n",
              "    </tr>\n",
              "    <tr>\n",
              "      <th>1945</th>\n",
              "      <td>0</td>\n",
              "    </tr>\n",
              "    <tr>\n",
              "      <th>1946</th>\n",
              "      <td>0</td>\n",
              "    </tr>\n",
              "  </tbody>\n",
              "</table>\n",
              "<p>1947 rows × 1 columns</p>\n",
              "</div>\n",
              "      <button class=\"colab-df-convert\" onclick=\"convertToInteractive('df-076a8485-a997-4436-9e3a-7ace41095b58')\"\n",
              "              title=\"Convert this dataframe to an interactive table.\"\n",
              "              style=\"display:none;\">\n",
              "        \n",
              "  <svg xmlns=\"http://www.w3.org/2000/svg\" height=\"24px\"viewBox=\"0 0 24 24\"\n",
              "       width=\"24px\">\n",
              "    <path d=\"M0 0h24v24H0V0z\" fill=\"none\"/>\n",
              "    <path d=\"M18.56 5.44l.94 2.06.94-2.06 2.06-.94-2.06-.94-.94-2.06-.94 2.06-2.06.94zm-11 1L8.5 8.5l.94-2.06 2.06-.94-2.06-.94L8.5 2.5l-.94 2.06-2.06.94zm10 10l.94 2.06.94-2.06 2.06-.94-2.06-.94-.94-2.06-.94 2.06-2.06.94z\"/><path d=\"M17.41 7.96l-1.37-1.37c-.4-.4-.92-.59-1.43-.59-.52 0-1.04.2-1.43.59L10.3 9.45l-7.72 7.72c-.78.78-.78 2.05 0 2.83L4 21.41c.39.39.9.59 1.41.59.51 0 1.02-.2 1.41-.59l7.78-7.78 2.81-2.81c.8-.78.8-2.07 0-2.86zM5.41 20L4 18.59l7.72-7.72 1.47 1.35L5.41 20z\"/>\n",
              "  </svg>\n",
              "      </button>\n",
              "      \n",
              "  <style>\n",
              "    .colab-df-container {\n",
              "      display:flex;\n",
              "      flex-wrap:wrap;\n",
              "      gap: 12px;\n",
              "    }\n",
              "\n",
              "    .colab-df-convert {\n",
              "      background-color: #E8F0FE;\n",
              "      border: none;\n",
              "      border-radius: 50%;\n",
              "      cursor: pointer;\n",
              "      display: none;\n",
              "      fill: #1967D2;\n",
              "      height: 32px;\n",
              "      padding: 0 0 0 0;\n",
              "      width: 32px;\n",
              "    }\n",
              "\n",
              "    .colab-df-convert:hover {\n",
              "      background-color: #E2EBFA;\n",
              "      box-shadow: 0px 1px 2px rgba(60, 64, 67, 0.3), 0px 1px 3px 1px rgba(60, 64, 67, 0.15);\n",
              "      fill: #174EA6;\n",
              "    }\n",
              "\n",
              "    [theme=dark] .colab-df-convert {\n",
              "      background-color: #3B4455;\n",
              "      fill: #D2E3FC;\n",
              "    }\n",
              "\n",
              "    [theme=dark] .colab-df-convert:hover {\n",
              "      background-color: #434B5C;\n",
              "      box-shadow: 0px 1px 3px 1px rgba(0, 0, 0, 0.15);\n",
              "      filter: drop-shadow(0px 1px 2px rgba(0, 0, 0, 0.3));\n",
              "      fill: #FFFFFF;\n",
              "    }\n",
              "  </style>\n",
              "\n",
              "      <script>\n",
              "        const buttonEl =\n",
              "          document.querySelector('#df-076a8485-a997-4436-9e3a-7ace41095b58 button.colab-df-convert');\n",
              "        buttonEl.style.display =\n",
              "          google.colab.kernel.accessAllowed ? 'block' : 'none';\n",
              "\n",
              "        async function convertToInteractive(key) {\n",
              "          const element = document.querySelector('#df-076a8485-a997-4436-9e3a-7ace41095b58');\n",
              "          const dataTable =\n",
              "            await google.colab.kernel.invokeFunction('convertToInteractive',\n",
              "                                                     [key], {});\n",
              "          if (!dataTable) return;\n",
              "\n",
              "          const docLinkHtml = 'Like what you see? Visit the ' +\n",
              "            '<a target=\"_blank\" href=https://colab.research.google.com/notebooks/data_table.ipynb>data table notebook</a>'\n",
              "            + ' to learn more about interactive tables.';\n",
              "          element.innerHTML = '';\n",
              "          dataTable['output_type'] = 'display_data';\n",
              "          await google.colab.output.renderOutput(dataTable, element);\n",
              "          const docLink = document.createElement('div');\n",
              "          docLink.innerHTML = docLinkHtml;\n",
              "          element.appendChild(docLink);\n",
              "        }\n",
              "      </script>\n",
              "    </div>\n",
              "  </div>\n",
              "  "
            ]
          },
          "metadata": {},
          "execution_count": 117
        }
      ]
    },
    {
      "cell_type": "code",
      "source": [
        "lr_clf_pred.to_csv('ans_lr_clf.csv', index=False, header=False)"
      ],
      "metadata": {
        "id": "BoibTB4pP-go"
      },
      "execution_count": null,
      "outputs": []
    },
    {
      "cell_type": "code",
      "source": [
        "new_pred = lr_clf_pred.astype(int)"
      ],
      "metadata": {
        "id": "ZghVqSpQREss"
      },
      "execution_count": null,
      "outputs": []
    },
    {
      "cell_type": "code",
      "source": [
        "new_pred.to_csv('ans.csv', columns=[0])"
      ],
      "metadata": {
        "id": "j7hHajDLRX5X"
      },
      "execution_count": null,
      "outputs": []
    },
    {
      "cell_type": "code",
      "source": [],
      "metadata": {
        "id": "ph5hLr5hSayS"
      },
      "execution_count": null,
      "outputs": []
    }
  ],
  "metadata": {
    "kernelspec": {
      "display_name": "Python 3",
      "language": "python",
      "name": "python3"
    },
    "language_info": {
      "codemirror_mode": {
        "name": "ipython",
        "version": 3
      },
      "file_extension": ".py",
      "mimetype": "text/x-python",
      "name": "python",
      "nbconvert_exporter": "python",
      "pygments_lexer": "ipython3",
      "version": "3.7.3"
    },
    "colab": {
      "provenance": [],
      "gpuType": "T4"
    },
    "accelerator": "GPU",
    "gpuClass": "standard"
  },
  "nbformat": 4,
  "nbformat_minor": 0
}